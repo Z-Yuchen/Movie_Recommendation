{
  "cells": [
    {
      "cell_type": "markdown",
      "metadata": {
        "id": "6alEbKjqG9zD"
      },
      "source": [
        "# **Spark Moive Recommendation**      2023/5-2023/6\n",
        "In this notebook, I will use an Alternating Least Squares (ALS) algorithm with Spark APIs to predict the ratings for the movies in [MovieLens small dataset](https://grouplens.org/datasets/movielens/latest/)"
      ]
    },
    {
      "cell_type": "markdown",
      "metadata": {
        "id": "QWldNX36HHoc"
      },
      "source": [
        "# Set Up Environments"
      ]
    },
    {
      "cell_type": "markdown",
      "metadata": {
        "id": "LP7VtElzPwns"
      },
      "source": [
        "## Spark\n",
        "\n",
        "- https://medium.com/grabngoinfo/install-pyspark-3-on-google-colab-the-easy-way-577ec4a2bcd8"
      ]
    },
    {
      "cell_type": "code",
      "execution_count": null,
      "metadata": {
        "id": "FIdhuVy0Fr-P"
      },
      "outputs": [],
      "source": [
        "# Download Java Virtual Machine (JVM) and Spark\n",
        "!apt-get install openjdk-8-jdk-headless -qq > /dev/null\n",
        "!wget -q https://archive.apache.org/dist/spark/spark-3.2.1/spark-3.2.1-bin-hadoop3.2.tgz\n",
        "# Unzip the file\n",
        "!tar xf spark-3.2.1-bin-hadoop3.2.tgz\n",
        "# Set up the enviornment\n",
        "\n",
        "import os\n",
        "os.environ[\"JAVA_HOME\"] = \"/usr/lib/jvm/java-8-openjdk-amd64\"\n",
        "os.environ[\"SPARK_HOME\"] = '/content/spark-3.2.1-bin-hadoop3.2'\n",
        "# Install library for finding Spark\n",
        "!pip install -q findspark\n",
        "# Import the libary\n",
        "import findspark\n",
        "findspark.init()\n",
        "findspark.find()\n",
        "\n",
        "from pyspark.sql import SparkSession\n",
        "spark = SparkSession.builder.master(\"local[*]\").getOrCreate()\n",
        "# Check Spark Session Information\n",
        "spark\n",
        "# Import a Spark function from library\n",
        "from pyspark.sql.functions import col"
      ]
    },
    {
      "cell_type": "code",
      "source": [],
      "metadata": {
        "id": "C9HZK18Num_H"
      },
      "execution_count": null,
      "outputs": []
    },
    {
      "cell_type": "markdown",
      "metadata": {
        "id": "jUWvE0HsQfEA"
      },
      "source": [
        "## Libraries"
      ]
    },
    {
      "cell_type": "code",
      "execution_count": null,
      "metadata": {
        "id": "pZ2oYkBsFrty"
      },
      "outputs": [],
      "source": [
        "import numpy as np\n",
        "import pandas as pd\n",
        "import seaborn as sns\n",
        "import matplotlib.pyplot as plt\n",
        "import math\n",
        "%matplotlib inline"
      ]
    },
    {
      "cell_type": "code",
      "execution_count": null,
      "metadata": {
        "id": "tIjOLh3vFrmf",
        "colab": {
          "base_uri": "https://localhost:8080/"
        },
        "outputId": "d285f42c-3474-4a23-e1b9-b443712b77a5"
      },
      "outputs": [
        {
          "output_type": "stream",
          "name": "stdout",
          "text": [
            "Mounted at /content/drive\n"
          ]
        }
      ],
      "source": [
        "from google.colab import drive\n",
        "drive.mount('/content/drive')"
      ]
    },
    {
      "cell_type": "markdown",
      "metadata": {
        "id": "pJWrl1Ay2qFA"
      },
      "source": [
        "## Datasets"
      ]
    },
    {
      "cell_type": "code",
      "execution_count": null,
      "metadata": {
        "id": "Iq09qyVQFrjY",
        "colab": {
          "base_uri": "https://localhost:8080/"
        },
        "outputId": "bea782ad-f74c-40c0-e749-bbfe6fa13722"
      },
      "outputs": [
        {
          "output_type": "stream",
          "name": "stdout",
          "text": [
            "/content/drive/MyDrive/Projects\n"
          ]
        }
      ],
      "source": [
        "cd /content/drive/MyDrive/Projects"
      ]
    },
    {
      "cell_type": "code",
      "execution_count": null,
      "metadata": {
        "id": "nXP2izYhqr65",
        "colab": {
          "base_uri": "https://localhost:8080/"
        },
        "outputId": "8ce99a49-96a1-45e1-c8d3-450efc980691"
      },
      "outputs": [
        {
          "output_type": "stream",
          "name": "stdout",
          "text": [
            "links.csv  ml-latest-small.zip  movies.csv  ratings.csv  tags.csv\n"
          ]
        }
      ],
      "source": [
        "ls"
      ]
    },
    {
      "cell_type": "code",
      "execution_count": null,
      "metadata": {
        "id": "r8-mXr-RFrfu"
      },
      "outputs": [],
      "source": [
        "movies_df = spark.read.load(\"/content/drive/MyDrive/Projects/movies.csv\", format='csv', header = True)\n",
        "ratings_df = spark.read.load(\"/content/drive/MyDrive/Projects/ratings.csv\", format='csv', header = True)\n",
        "links_df = spark.read.load(\"/content/drive/MyDrive/Projects/links.csv\", format='csv', header = True)\n",
        "tags_df = spark.read.load(\"/content/drive/MyDrive/Projects/tags.csv\", format='csv', header = True)"
      ]
    },
    {
      "cell_type": "code",
      "execution_count": null,
      "metadata": {
        "id": "K8OdsQ5RFrWV",
        "colab": {
          "base_uri": "https://localhost:8080/"
        },
        "outputId": "37d3df2a-62a0-4246-e052-aecc1dbfd574"
      },
      "outputs": [
        {
          "output_type": "stream",
          "name": "stdout",
          "text": [
            "+-------+--------------------+--------------------+\n",
            "|movieId|               title|              genres|\n",
            "+-------+--------------------+--------------------+\n",
            "|      1|    Toy Story (1995)|Adventure|Animati...|\n",
            "|      2|      Jumanji (1995)|Adventure|Childre...|\n",
            "|      3|Grumpier Old Men ...|      Comedy|Romance|\n",
            "|      4|Waiting to Exhale...|Comedy|Drama|Romance|\n",
            "|      5|Father of the Bri...|              Comedy|\n",
            "+-------+--------------------+--------------------+\n",
            "only showing top 5 rows\n",
            "\n"
          ]
        }
      ],
      "source": [
        "movies_df.show(5)"
      ]
    },
    {
      "cell_type": "code",
      "execution_count": null,
      "metadata": {
        "id": "REWeAir1zErR",
        "colab": {
          "base_uri": "https://localhost:8080/"
        },
        "outputId": "d2383e1b-5a96-418c-eb50-be87426ea20e"
      },
      "outputs": [
        {
          "output_type": "stream",
          "name": "stdout",
          "text": [
            "+------+-------+------+---------+\n",
            "|userId|movieId|rating|timestamp|\n",
            "+------+-------+------+---------+\n",
            "|     1|      1|   4.0|964982703|\n",
            "|     1|      3|   4.0|964981247|\n",
            "|     1|      6|   4.0|964982224|\n",
            "|     1|     47|   5.0|964983815|\n",
            "|     1|     50|   5.0|964982931|\n",
            "+------+-------+------+---------+\n",
            "only showing top 5 rows\n",
            "\n"
          ]
        }
      ],
      "source": [
        "ratings_df.show(5)"
      ]
    },
    {
      "cell_type": "code",
      "execution_count": null,
      "metadata": {
        "id": "TLEqnyWgzFzj",
        "colab": {
          "base_uri": "https://localhost:8080/"
        },
        "outputId": "b77f78ea-6279-4fd2-edb7-02ae4308edcb"
      },
      "outputs": [
        {
          "output_type": "stream",
          "name": "stdout",
          "text": [
            "+-------+-------+------+\n",
            "|movieId| imdbId|tmdbId|\n",
            "+-------+-------+------+\n",
            "|      1|0114709|   862|\n",
            "|      2|0113497|  8844|\n",
            "|      3|0113228| 15602|\n",
            "|      4|0114885| 31357|\n",
            "|      5|0113041| 11862|\n",
            "+-------+-------+------+\n",
            "only showing top 5 rows\n",
            "\n"
          ]
        }
      ],
      "source": [
        "links_df.show(5)"
      ]
    },
    {
      "cell_type": "code",
      "execution_count": null,
      "metadata": {
        "id": "kkCiJtjazHiG",
        "colab": {
          "base_uri": "https://localhost:8080/"
        },
        "outputId": "16fe2f50-d77a-49ae-8f81-936523ac4243"
      },
      "outputs": [
        {
          "output_type": "stream",
          "name": "stdout",
          "text": [
            "+------+-------+---------------+----------+\n",
            "|userId|movieId|            tag| timestamp|\n",
            "+------+-------+---------------+----------+\n",
            "|     2|  60756|          funny|1445714994|\n",
            "|     2|  60756|Highly quotable|1445714996|\n",
            "|     2|  60756|   will ferrell|1445714992|\n",
            "|     2|  89774|   Boxing story|1445715207|\n",
            "|     2|  89774|            MMA|1445715200|\n",
            "+------+-------+---------------+----------+\n",
            "only showing top 5 rows\n",
            "\n"
          ]
        }
      ],
      "source": [
        "tags_df.show(5)"
      ]
    },
    {
      "cell_type": "code",
      "source": [
        "print('Number of null values in userid: ',ratings_df.filter(ratings_df['userId'].isNull()).count())\n",
        "print('Number of null values in movieid: ',ratings_df.filter(ratings_df['movieId'].isNull()).count())\n",
        "print('Number of null values in tag: ',tags_df.filter(tags_df['tag'].isNull()).count())\n",
        "print('Number of null values in title: ',movies_df.filter(movies_df['title'].isNull()).count())"
      ],
      "metadata": {
        "id": "dy2AbW8GxeI0",
        "colab": {
          "base_uri": "https://localhost:8080/"
        },
        "outputId": "f384cafa-c4fb-43fc-b39c-023efbca53da"
      },
      "execution_count": null,
      "outputs": [
        {
          "output_type": "stream",
          "name": "stdout",
          "text": [
            "Number of null values in userid:  0\n",
            "Number of null values in movieid:  0\n",
            "Number of null values in tag:  0\n",
            "Number of null values in title:  0\n"
          ]
        }
      ]
    },
    {
      "cell_type": "code",
      "execution_count": null,
      "metadata": {
        "id": "VeUxQZx1zW51",
        "colab": {
          "base_uri": "https://localhost:8080/"
        },
        "outputId": "1fda7bc6-26f6-4cf8-acc9-c85c60b586c5"
      },
      "outputs": [
        {
          "output_type": "stream",
          "name": "stdout",
          "text": [
            "For the users that rated movies and the movies that were rated:\n",
            "Minimum number of ratings per user is 20\n",
            "Minimum number of ratings per movie is 1\n"
          ]
        }
      ],
      "source": [
        "tmp1 = ratings_df.groupBy(\"userID\").count().toPandas()['count'].min()\n",
        "tmp2 = ratings_df.groupBy(\"movieId\").count().toPandas()['count'].min()\n",
        "print('For the users that rated movies and the movies that were rated:')\n",
        "print('Minimum number of ratings per user is {}'.format(tmp1))\n",
        "print('Minimum number of ratings per movie is {}'.format(tmp2))"
      ]
    },
    {
      "cell_type": "code",
      "execution_count": null,
      "metadata": {
        "id": "6mrhUm9Zzh6G",
        "colab": {
          "base_uri": "https://localhost:8080/"
        },
        "outputId": "8af4f246-6a2c-4c90-c343-0115041d2f31"
      },
      "outputs": [
        {
          "output_type": "stream",
          "name": "stdout",
          "text": [
            "3446 out of 9724 movies are rated by only one user\n"
          ]
        }
      ],
      "source": [
        "tmp1 = sum(ratings_df.groupBy(\"movieId\").count().toPandas()['count'] == 1)\n",
        "tmp2 = ratings_df.select('movieId').distinct().count()\n",
        "print('{} out of {} movies are rated by only one user'.format(tmp1, tmp2))"
      ]
    },
    {
      "cell_type": "markdown",
      "metadata": {
        "id": "4t2cH5rw08D-"
      },
      "source": [
        "# Part 1: Spark SQL and OLAP"
      ]
    },
    {
      "cell_type": "code",
      "execution_count": null,
      "metadata": {
        "id": "HiH40ORB1Rr9",
        "colab": {
          "base_uri": "https://localhost:8080/"
        },
        "outputId": "55210d02-2524-48bd-cad9-5093e0e46e8e"
      },
      "outputs": [
        {
          "output_type": "stream",
          "name": "stderr",
          "text": [
            "/content/spark-3.2.1-bin-hadoop3.2/python/pyspark/sql/dataframe.py:138: FutureWarning: Deprecated in 2.0, use createOrReplaceTempView instead.\n",
            "  warnings.warn(\n"
          ]
        }
      ],
      "source": [
        "movies_df.registerTempTable(\"movies\")\n",
        "ratings_df.registerTempTable(\"ratings\")\n",
        "links_df.registerTempTable(\"links\")\n",
        "tags_df.registerTempTable(\"tags\")"
      ]
    },
    {
      "cell_type": "markdown",
      "metadata": {
        "id": "EeKYhPR01IHr"
      },
      "source": [
        "### Q1: The number of Users"
      ]
    },
    {
      "cell_type": "code",
      "execution_count": null,
      "metadata": {
        "id": "mGnoh18w1F0W",
        "colab": {
          "base_uri": "https://localhost:8080/"
        },
        "outputId": "86c85e45-4fb2-4191-8573-4c56ba00de0e"
      },
      "outputs": [
        {
          "output_type": "stream",
          "name": "stdout",
          "text": [
            "+---------------+\n",
            "|Number_of_Users|\n",
            "+---------------+\n",
            "|            610|\n",
            "+---------------+\n",
            "\n"
          ]
        }
      ],
      "source": [
        "# Method - 1\n",
        "q1_result=spark.sql(\"Select Count(Distinct userId) as Number_of_Users from ratings\")\n",
        "q1_result.show()"
      ]
    },
    {
      "cell_type": "code",
      "execution_count": null,
      "metadata": {
        "id": "E3FXfFG0uUNo",
        "colab": {
          "base_uri": "https://localhost:8080/"
        },
        "outputId": "327384ae-8311-4341-f777-e1f225d3cadb"
      },
      "outputs": [
        {
          "output_type": "stream",
          "name": "stdout",
          "text": [
            "Total number of users is  610\n"
          ]
        }
      ],
      "source": [
        "# Method - 2\n",
        "# all users should be computed by both ratings and tags\n",
        "# in case some users leave raings but no tag while some users leave tags but no rating\n",
        "nuser=spark.sql('SELECT COUNT(DISTINCT userId) ' +\\\n",
        "                'FROM (' +\\\n",
        "\t                'SELECT DISTINCT userId ' +\\\n",
        "\t                'FROM ratings ' +\\\n",
        "\t                'UNION ' +\\\n",
        "\t                'SELECT DISTINCT userId ' +\\\n",
        "\t                'FROM tags' +\\\n",
        "                ')').toPandas()\n",
        "print('Total number of users is ',nuser.iloc[0,0])"
      ]
    },
    {
      "cell_type": "markdown",
      "metadata": {
        "id": "DJsAsrIs4ifx"
      },
      "source": [
        "### Q2: The number of Movies"
      ]
    },
    {
      "cell_type": "code",
      "execution_count": null,
      "metadata": {
        "id": "Y7GHP20_4N-5",
        "colab": {
          "base_uri": "https://localhost:8080/"
        },
        "outputId": "604d1fc1-162e-4c58-d38a-724dfbf95eff"
      },
      "outputs": [
        {
          "output_type": "stream",
          "name": "stdout",
          "text": [
            "+----------------+\n",
            "|Number_of_Moives|\n",
            "+----------------+\n",
            "|            9742|\n",
            "+----------------+\n",
            "\n"
          ]
        }
      ],
      "source": [
        "q2_result=spark.sql(\"Select Count(movieId) as Number_of_Moives from movies\")\n",
        "q2_result.show()"
      ]
    },
    {
      "cell_type": "markdown",
      "metadata": {
        "id": "axRsLKg85DhS"
      },
      "source": [
        "### Q3:  How many movies are rated by users? List movies not rated before"
      ]
    },
    {
      "cell_type": "code",
      "execution_count": null,
      "metadata": {
        "id": "sNT9Pk1IwzKG",
        "colab": {
          "base_uri": "https://localhost:8080/"
        },
        "outputId": "79bbb69a-0a6d-496e-8477-54927b7d03e3"
      },
      "outputs": [
        {
          "output_type": "stream",
          "name": "stdout",
          "text": [
            "+----------------------+\n",
            "|Number_of_Rated_Moives|\n",
            "+----------------------+\n",
            "|                  9724|\n",
            "+----------------------+\n",
            "\n"
          ]
        }
      ],
      "source": [
        "# number of movies rated\n",
        "q3_result_1=spark.sql(\"Select Count(movieId) as Number_of_Rated_Moives From movies Where movieID in (Select movieId From ratings)\")\n",
        "q3_result_1.show()"
      ]
    },
    {
      "cell_type": "code",
      "execution_count": null,
      "metadata": {
        "id": "oGKwmS8J7y1b",
        "colab": {
          "base_uri": "https://localhost:8080/"
        },
        "outputId": "cd67c0f8-d52a-4f81-c12c-f71b7c3febc1"
      },
      "outputs": [
        {
          "output_type": "stream",
          "name": "stdout",
          "text": [
            "50 movies that have not been rated by users:\n",
            "+-------+--------------------+--------------------+\n",
            "|movieId|               title|              genres|\n",
            "+-------+--------------------+--------------------+\n",
            "|   1076|Innocents, The (1...|Drama|Horror|Thri...|\n",
            "|   2939|      Niagara (1953)|      Drama|Thriller|\n",
            "|   3338|For All Mankind (...|         Documentary|\n",
            "|   3456|Color of Paradise...|               Drama|\n",
            "|   4194|I Know Where I'm ...|   Drama|Romance|War|\n",
            "|   5721|  Chosen, The (1981)|               Drama|\n",
            "|   6668|Road Home, The (W...|       Drama|Romance|\n",
            "|   6849|      Scrooge (1970)|Drama|Fantasy|Mus...|\n",
            "|   7020|        Proof (1991)|Comedy|Drama|Romance|\n",
            "|   7792|Parallax View, Th...|            Thriller|\n",
            "|   8765|This Gun for Hire...|Crime|Film-Noir|T...|\n",
            "|  25855|Roaring Twenties,...|Crime|Drama|Thriller|\n",
            "|  26085|Mutiny on the Bou...|Adventure|Drama|R...|\n",
            "|  30892|In the Realms of ...|Animation|Documen...|\n",
            "|  32160|Twentieth Century...|              Comedy|\n",
            "|  32371|Call Northside 77...|Crime|Drama|Film-...|\n",
            "|  34482|Browning Version,...|               Drama|\n",
            "|  85565|  Chalet Girl (2011)|      Comedy|Romance|\n",
            "+-------+--------------------+--------------------+\n",
            "\n"
          ]
        }
      ],
      "source": [
        "# movies that have not been rated before: 50 movies as an example\n",
        "unrated_list=spark.sql('SELECT * ' +\\\n",
        "                       'FROM movies ' +\\\n",
        "                       'WHERE movieId NOT IN ( ' +\\\n",
        "                        'SELECT movieId ' +\\\n",
        "                        'FROM ratings ' +\\\n",
        "                       ') ' +\\\n",
        "                       'LIMIT 50')\n",
        "print('50 movies that have not been rated by users:')\n",
        "unrated_list.show()"
      ]
    },
    {
      "cell_type": "markdown",
      "metadata": {
        "id": "hDrUzAEA8j3R"
      },
      "source": [
        "### Q4: List Movie Genres"
      ]
    },
    {
      "cell_type": "code",
      "execution_count": null,
      "metadata": {
        "id": "uL7ftqfBwEgh",
        "colab": {
          "base_uri": "https://localhost:8080/"
        },
        "outputId": "d2155a2e-42dd-4d2c-b2c6-82e6fa187e68"
      },
      "outputs": [
        {
          "output_type": "stream",
          "name": "stdout",
          "text": [
            "+--------------------+\n",
            "|              genres|\n",
            "+--------------------+\n",
            "|Comedy|Horror|Thr...|\n",
            "|Adventure|Sci-Fi|...|\n",
            "|Action|Adventure|...|\n",
            "| Action|Drama|Horror|\n",
            "|Action|Animation|...|\n",
            "|Animation|Childre...|\n",
            "|Action|Adventure|...|\n",
            "|    Adventure|Sci-Fi|\n",
            "|Documentary|Music...|\n",
            "|Adventure|Childre...|\n",
            "| Adventure|Animation|\n",
            "| Musical|Romance|War|\n",
            "|Action|Adventure|...|\n",
            "|Adventure|Childre...|\n",
            "|Comedy|Crime|Horr...|\n",
            "|Crime|Drama|Fanta...|\n",
            "|Comedy|Mystery|Th...|\n",
            "|   Adventure|Fantasy|\n",
            "|Horror|Romance|Sc...|\n",
            "|Drama|Film-Noir|R...|\n",
            "+--------------------+\n",
            "only showing top 20 rows\n",
            "\n"
          ]
        }
      ],
      "source": [
        "genres_list=spark.sql('select genres from movies').toPandas()\n",
        "# genres_list.head(5)\n",
        "spark.sql('select distinct genres from movies').show()"
      ]
    },
    {
      "cell_type": "code",
      "execution_count": null,
      "metadata": {
        "id": "quueW6Jl8hBW",
        "colab": {
          "base_uri": "https://localhost:8080/"
        },
        "outputId": "9ecc521a-9ebf-4360-8748-d34d1644c36c"
      },
      "outputs": [
        {
          "output_type": "stream",
          "name": "stdout",
          "text": [
            "+------------------+\n",
            "|            genres|\n",
            "+------------------+\n",
            "|(no genres listed)|\n",
            "|            Action|\n",
            "|         Adventure|\n",
            "|         Animation|\n",
            "|          Children|\n",
            "|            Comedy|\n",
            "|             Crime|\n",
            "|       Documentary|\n",
            "|             Drama|\n",
            "|           Fantasy|\n",
            "|         Film-Noir|\n",
            "|            Horror|\n",
            "|              IMAX|\n",
            "|           Musical|\n",
            "|           Mystery|\n",
            "|           Romance|\n",
            "|            Sci-Fi|\n",
            "|          Thriller|\n",
            "|               War|\n",
            "|           Western|\n",
            "+------------------+\n",
            "\n"
          ]
        }
      ],
      "source": [
        "q4_result=spark.sql(\"Select Distinct explode(split(genres,'[|]')) as genres From movies Order by 1\")\n",
        "q4_result.show()"
      ]
    },
    {
      "cell_type": "markdown",
      "metadata": {
        "id": "z3OUmAESLY__"
      },
      "source": [
        "### Q5: Movie for Each Category"
      ]
    },
    {
      "cell_type": "code",
      "execution_count": null,
      "metadata": {
        "id": "t53GMhTrLYcy",
        "colab": {
          "base_uri": "https://localhost:8080/"
        },
        "outputId": "950a75d6-0cf6-40cd-b1ad-d1827cb26dc5"
      },
      "outputs": [
        {
          "output_type": "stream",
          "name": "stdout",
          "text": [
            "+------------------+----------------+\n",
            "|            genres|Number_of_Moives|\n",
            "+------------------+----------------+\n",
            "|             Drama|            4361|\n",
            "|            Comedy|            3756|\n",
            "|          Thriller|            1894|\n",
            "|            Action|            1828|\n",
            "|           Romance|            1596|\n",
            "|         Adventure|            1263|\n",
            "|             Crime|            1199|\n",
            "|            Sci-Fi|             980|\n",
            "|            Horror|             978|\n",
            "|           Fantasy|             779|\n",
            "|          Children|             664|\n",
            "|         Animation|             611|\n",
            "|           Mystery|             573|\n",
            "|       Documentary|             440|\n",
            "|               War|             382|\n",
            "|           Musical|             334|\n",
            "|           Western|             167|\n",
            "|              IMAX|             158|\n",
            "|         Film-Noir|              87|\n",
            "|(no genres listed)|              34|\n",
            "+------------------+----------------+\n",
            "\n"
          ]
        }
      ],
      "source": [
        "# size of each category\n",
        "q5_result_1=spark.sql(\"Select genres,Count(movieId) as Number_of_Moives From(Select explode(split(genres,'[|]')) as genres, movieId From movies) Group By 1 Order by 2 DESC\")\n",
        "q5_result_1.show()"
      ]
    },
    {
      "cell_type": "code",
      "execution_count": null,
      "metadata": {
        "id": "HwPq3juBXk9L",
        "colab": {
          "base_uri": "https://localhost:8080/"
        },
        "outputId": "4668f00a-3c40-4730-c36d-b1ba67f12a4b"
      },
      "outputs": [
        {
          "output_type": "stream",
          "name": "stdout",
          "text": [
            "+------------------+--------------------+\n",
            "|            genres|      list_of_movies|\n",
            "+------------------+--------------------+\n",
            "|             Crime|Stealing Rembrand...|\n",
            "|           Romance|Vampire in Brookl...|\n",
            "|          Thriller|Element of Crime,...|\n",
            "|         Adventure|Ice Age: Collisio...|\n",
            "|             Drama|Airport '77 (1977...|\n",
            "|               War|General, The (192...|\n",
            "|       Documentary|The Barkley Marat...|\n",
            "|           Fantasy|Masters of the Un...|\n",
            "|           Mystery|Before and After ...|\n",
            "|           Musical|U2: Rattle and Hu...|\n",
            "|         Animation|Ice Age: Collisio...|\n",
            "|         Film-Noir|Rififi (Du rififi...|\n",
            "|(no genres listed)|T2 3-D: Battle Ac...|\n",
            "|              IMAX|Harry Potter and ...|\n",
            "|            Horror|Underworld: Rise ...|\n",
            "|           Western|Man Who Shot Libe...|\n",
            "|            Comedy|Hysteria (2011),H...|\n",
            "|          Children|Ice Age: Collisio...|\n",
            "|            Action|Stealing Rembrand...|\n",
            "|            Sci-Fi|Push (2009),SORI:...|\n",
            "+------------------+--------------------+\n",
            "\n"
          ]
        }
      ],
      "source": [
        "# list all movie for each category\n",
        "q5_result_2=spark.sql(\"Select genres, concat_ws(',',collect_set(title)) as list_of_movies From(Select explode(split(genres,'[|]')) as genres, title From movies) Group By 1\")\n",
        "q5_result_2.show()"
      ]
    },
    {
      "cell_type": "markdown",
      "metadata": {
        "id": "aS11BgUKN8nZ"
      },
      "source": [
        "# Part2: Spark ALS based approach for training model\n",
        "We will use an Spark ML to predict the ratings, so let's reload \"ratings.csv\" using ``sc.textFile`` and then convert it to the form of (user, item, rating) tuples."
      ]
    },
    {
      "cell_type": "markdown",
      "metadata": {
        "id": "u_DaCFAU3lYO"
      },
      "source": [
        "## Bkgd Info"
      ]
    },
    {
      "cell_type": "markdown",
      "metadata": {
        "id": "HuJEy3683xh9"
      },
      "source": [
        "- In collaborative filtering, matrix factorization is the state-of-the-art solution for sparse data problem\n",
        "\n",
        "![Screen Shot 2022-06-17 at 11.14.42 AM.png](data:image/png;base64,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)\n",
        "\n",
        "*  Hybrid Recommender System"
      ]
    },
    {
      "cell_type": "markdown",
      "metadata": {
        "id": "yx4Qe2lH3xfD"
      },
      "source": [
        "- a matrix factorization is a factorization of a matrix into a product of matrices. In the case of collaborative filtering, matrix factorization algorithms work by decomposing the user-item interaction matrix into the product of two lower dimensionality rectangular matrices. One matrix can be seen as the user matrix where rows represent users and columns are latent factors. The other matrix is the item matrix where rows are latent factors and columns represent items."
      ]
    },
    {
      "cell_type": "markdown",
      "metadata": {
        "id": "0PbPcERE3xb-"
      },
      "source": [
        "Q: How does matrix factorization solve the problems listed in Part One?\n",
        "\n",
        "\n",
        "1. Model learns to factorize rating matrix into user and movie representations, which allows model to predict better personalized movie ratings for users\n",
        "\n",
        "\n",
        "2. With matrix factorization, less-known movies can have rich latent representations as much as popular movies have, which improves recommender’s ability to recommend less-known movies\n"
      ]
    },
    {
      "cell_type": "markdown",
      "metadata": {
        "id": "MEyrzxm73xY2"
      },
      "source": [
        "Q: Why using Alternating Least Square (ALS) algorithm?\n",
        "\n",
        "\n",
        "A: Alternating Least Square (ALS) is also a matrix factorization algorithm and it runs itself in a parallel fashion. ALS is implemented in Apache Spark ML and built for a larges-scale collaborative filtering problems. ALS is doing a pretty good job at solving scalability and sparseness of the Ratings data, and it’s simple and scales well to very large datasets.\n",
        "\n"
      ]
    },
    {
      "cell_type": "markdown",
      "metadata": {
        "id": "c272IPu05h06"
      },
      "source": [
        "## Datasets"
      ]
    },
    {
      "cell_type": "code",
      "execution_count": null,
      "metadata": {
        "id": "nuoD2YfyQfVq",
        "colab": {
          "base_uri": "https://localhost:8080/"
        },
        "outputId": "37eb5cb0-fc74-416c-c5e5-c6aeaaec0922"
      },
      "outputs": [
        {
          "output_type": "stream",
          "name": "stdout",
          "text": [
            "+------+-------+------+---------+\n",
            "|userId|movieId|rating|timestamp|\n",
            "+------+-------+------+---------+\n",
            "|     1|      1|   4.0|964982703|\n",
            "|     1|      3|   4.0|964981247|\n",
            "|     1|      6|   4.0|964982224|\n",
            "|     1|     47|   5.0|964983815|\n",
            "|     1|     50|   5.0|964982931|\n",
            "|     1|     70|   3.0|964982400|\n",
            "|     1|    101|   5.0|964980868|\n",
            "|     1|    110|   4.0|964982176|\n",
            "|     1|    151|   5.0|964984041|\n",
            "|     1|    157|   5.0|964984100|\n",
            "|     1|    163|   5.0|964983650|\n",
            "|     1|    216|   5.0|964981208|\n",
            "|     1|    223|   3.0|964980985|\n",
            "|     1|    231|   5.0|964981179|\n",
            "|     1|    235|   4.0|964980908|\n",
            "|     1|    260|   5.0|964981680|\n",
            "|     1|    296|   3.0|964982967|\n",
            "|     1|    316|   3.0|964982310|\n",
            "|     1|    333|   5.0|964981179|\n",
            "|     1|    349|   4.0|964982563|\n",
            "+------+-------+------+---------+\n",
            "only showing top 20 rows\n",
            "\n"
          ]
        }
      ],
      "source": [
        "ratings_df.show()"
      ]
    },
    {
      "cell_type": "code",
      "execution_count": null,
      "metadata": {
        "id": "-6p0nDibQhKl"
      },
      "outputs": [],
      "source": [
        "movie_ratings=ratings_df.drop('timestamp')"
      ]
    },
    {
      "cell_type": "code",
      "execution_count": null,
      "metadata": {
        "id": "Db_Mg8FnQs4y"
      },
      "outputs": [],
      "source": [
        "# Data type convert\n",
        "from pyspark.sql.types import IntegerType, FloatType\n",
        "movie_ratings = movie_ratings.withColumn(\"userId\", movie_ratings[\"userId\"].cast(IntegerType()))\n",
        "movie_ratings = movie_ratings.withColumn(\"movieId\", movie_ratings[\"movieId\"].cast(IntegerType()))\n",
        "movie_ratings = movie_ratings.withColumn(\"rating\", movie_ratings[\"rating\"].cast(FloatType()))"
      ]
    },
    {
      "cell_type": "code",
      "execution_count": null,
      "metadata": {
        "id": "q7QagKRAQv49",
        "colab": {
          "base_uri": "https://localhost:8080/"
        },
        "outputId": "3da25583-8a2a-4a9d-f978-3010c0eb80b6"
      },
      "outputs": [
        {
          "output_type": "stream",
          "name": "stdout",
          "text": [
            "+------+-------+------+\n",
            "|userId|movieId|rating|\n",
            "+------+-------+------+\n",
            "|     1|      1|   4.0|\n",
            "|     1|      3|   4.0|\n",
            "|     1|      6|   4.0|\n",
            "|     1|     47|   5.0|\n",
            "|     1|     50|   5.0|\n",
            "|     1|     70|   3.0|\n",
            "|     1|    101|   5.0|\n",
            "|     1|    110|   4.0|\n",
            "|     1|    151|   5.0|\n",
            "|     1|    157|   5.0|\n",
            "|     1|    163|   5.0|\n",
            "|     1|    216|   5.0|\n",
            "|     1|    223|   3.0|\n",
            "|     1|    231|   5.0|\n",
            "|     1|    235|   4.0|\n",
            "|     1|    260|   5.0|\n",
            "|     1|    296|   3.0|\n",
            "|     1|    316|   3.0|\n",
            "|     1|    333|   5.0|\n",
            "|     1|    349|   4.0|\n",
            "+------+-------+------+\n",
            "only showing top 20 rows\n",
            "\n"
          ]
        }
      ],
      "source": [
        "movie_ratings.show()"
      ]
    },
    {
      "cell_type": "code",
      "execution_count": null,
      "metadata": {
        "id": "jcBBrr8tJ_TD",
        "colab": {
          "base_uri": "https://localhost:8080/",
          "height": 441
        },
        "outputId": "c4ce0af0-08ac-49d7-9323-67964bf998a7"
      },
      "outputs": [
        {
          "output_type": "display_data",
          "data": {
            "text/plain": [
              "<Figure size 1200x600 with 1 Axes>"
            ],
            "image/png": "[encoded data removed]"
          },
          "metadata": {}
        }
      ],
      "source": [
        "# bar chart of ratings\n",
        "rating_count=movie_ratings.select('rating').groupBy('rating').count().toPandas()\n",
        "plt.figure(figsize=[12,6])\n",
        "plt.bar(x='rating',height='count',data=rating_count,width=0.5)\n",
        "plt.title('Ratings Distribution')\n",
        "plt.xticks(np.arange(0.5,5.5,0.5))\n",
        "plt.show()"
      ]
    },
    {
      "cell_type": "markdown",
      "metadata": {
        "id": "IBfAd44cQ0aj"
      },
      "source": [
        "## ALS Model Selection and Evaluation\n"
      ]
    },
    {
      "cell_type": "markdown",
      "metadata": {
        "id": "Qu_4QERk9_8Z"
      },
      "source": [
        "ALS has its own set of hyper-parameters. We need to tune its hyper-parameters via hold-out validation or cross-validation.\n",
        "\n",
        "* https://spark.apache.org/docs/2.2.0/ml-collaborative-filtering.html\n",
        "\n",
        "\n",
        "\n",
        "Most important hyper-params in Alternating Least Square (ALS):\n",
        "\n",
        "1. maxIter: the maximum number of iterations to run (defaults to 10);\n",
        "2. rank: the number of latent factors in the model (defaults to 10);\n",
        "3. regParam: the regularization parameter in ALS (defaults to 1.0);\n",
        "\n",
        "* With the ALS model, we can use a grid search to find the optimal hyperparameters."
      ]
    },
    {
      "cell_type": "code",
      "execution_count": null,
      "metadata": {
        "id": "Wc9CF4YhQ5fq"
      },
      "outputs": [],
      "source": [
        "from pyspark.ml.evaluation import RegressionEvaluator\n",
        "from pyspark.ml.recommendation import ALS\n",
        "from pyspark.ml.tuning import CrossValidator,ParamGridBuilder"
      ]
    },
    {
      "cell_type": "code",
      "execution_count": null,
      "metadata": {
        "id": "rGAdsCyeQ9Tk"
      },
      "outputs": [],
      "source": [
        "\n",
        "(training,test) = movie_ratings.randomSplit([0.8,0.2])"
      ]
    },
    {
      "cell_type": "code",
      "execution_count": null,
      "metadata": {
        "id": "zF7ee7xnQ-kX"
      },
      "outputs": [],
      "source": [
        "#Create ALS model\n",
        "model_als = ALS(maxIter=10, rank=10, regParam=1, userCol=\"userId\", itemCol=\"movieId\", ratingCol=\"rating\",\n",
        "          coldStartStrategy=\"drop\", seed=6)"
      ]
    },
    {
      "cell_type": "code",
      "execution_count": null,
      "metadata": {
        "id": "_RGK-DMt1pzr"
      },
      "outputs": [],
      "source": [
        "#Tune model using ParamGridBuilder\n",
        "params = ParamGridBuilder()\\\n",
        "            .addGrid(model_als.maxIter, [3, 5, 10])\\\n",
        "            .addGrid(model_als.regParam, [0.1, 0.01, 0.001])\\\n",
        "            .addGrid(model_als.rank, [5, 10, 15, 20, 25])\\\n",
        "            .addGrid(model_als.alpha, [0.1, 0.01, 0.001])\\\n",
        "            .build()\n",
        "\n",
        "# Define evaluator as RMSE\n",
        "evaluator = RegressionEvaluator(metricName=\"rmse\", labelCol=\"rating\",\n",
        "                                predictionCol=\"prediction\")\n",
        "\n",
        "\n",
        "# Build Cross validation\n",
        "cv = CrossValidator(estimator=model_als, estimatorParamMaps=params, evaluator=evaluator, numFolds=5, seed=6)\n",
        "\n",
        "\n",
        "#Fit ALS model to training data\n",
        "cvModel = cv.fit(training)\n",
        "\n",
        "\n",
        "#Extract best model from the tuning exercise using ParamGridBuilder\n",
        "bestModel=cvModel.bestModel"
      ]
    },
    {
      "cell_type": "code",
      "source": [
        "bestModel"
      ],
      "metadata": {
        "colab": {
          "base_uri": "https://localhost:8080/"
        },
        "id": "LYu3Q1c3-iPI",
        "outputId": "30ce28b0-ce3a-486e-e5d8-4a200e41d230"
      },
      "execution_count": null,
      "outputs": [
        {
          "output_type": "execute_result",
          "data": {
            "text/plain": [
              "ALSModel: uid=ALS_fbbdeff9563e, rank=25"
            ]
          },
          "metadata": {},
          "execution_count": 34
        }
      ]
    },
    {
      "cell_type": "code",
      "execution_count": null,
      "metadata": {
        "id": "6Oyy5LLQLcdP",
        "colab": {
          "base_uri": "https://localhost:8080/"
        },
        "outputId": "5a90369c-b056-4c95-c0d1-41dc77ba6487"
      },
      "outputs": [
        {
          "output_type": "stream",
          "name": "stdout",
          "text": [
            "Best ALS model parameters by CV:\n",
            "-> maxIter: 10\n",
            "-> regParam: 0.1\n",
            "-> rank: 25\n",
            "-> alpha: 0.001\n"
          ]
        }
      ],
      "source": [
        "# Check the best parameters\n",
        "best_params = cvModel.getEstimatorParamMaps()[np.argmin(cvModel.avgMetrics)]\n",
        "print('Best ALS model parameters by CV:')\n",
        "for i,j in best_params.items():\n",
        "  print('-> '+i.name+': '+str(j))"
      ]
    },
    {
      "cell_type": "code",
      "execution_count": null,
      "metadata": {
        "id": "Lio3yNzvL4iv",
        "colab": {
          "base_uri": "https://localhost:8080/"
        },
        "outputId": "9b79a810-d2c5-428c-e544-05bd9b250558"
      },
      "outputs": [
        {
          "output_type": "stream",
          "name": "stdout",
          "text": [
            "Root-mean-square error for training data is 0.48347461461636626\n"
          ]
        }
      ],
      "source": [
        "#Extract best model from the tuning exercise using ParamGridBuilder\n",
        "prediction_train=cvModel.transform(training)\n",
        "rmse_train = evaluator.evaluate(prediction_train)\n",
        "print(\"Root-mean-square error for training data is \" + str(rmse_train))"
      ]
    },
    {
      "cell_type": "markdown",
      "metadata": {
        "id": "XsL-ufvNz_oP"
      },
      "source": [
        "## Model testing\n",
        "And finally, make a prediction and check the testing error."
      ]
    },
    {
      "cell_type": "code",
      "execution_count": null,
      "metadata": {
        "id": "1DSbaAr_0Jc3"
      },
      "outputs": [],
      "source": [
        "#Generate predictions and evaluate using RMSE\n",
        "predictions=bestModel.transform(test)\n",
        "rmse = evaluator.evaluate(predictions)"
      ]
    },
    {
      "cell_type": "code",
      "execution_count": null,
      "metadata": {
        "id": "i6F_F4br0OpL",
        "colab": {
          "base_uri": "https://localhost:8080/"
        },
        "outputId": "1e893607-43fe-44f7-cc3f-cff72822ba6e"
      },
      "outputs": [
        {
          "output_type": "stream",
          "name": "stdout",
          "text": [
            "RMSE = 0.8758427622265368\n",
            "**Best Model**\n",
            " Rank:  25\n",
            " MaxIter:  10\n",
            " RegParam:  0.1\n"
          ]
        }
      ],
      "source": [
        "#Print evaluation metrics and model parameters\n",
        "print (\"RMSE = \"+str(rmse))\n",
        "print (\"**Best Model**\")\n",
        "print (\" Rank: \", str(bestModel._java_obj.parent().getRank())),\n",
        "print (\" MaxIter: \", str(bestModel._java_obj.parent().getMaxIter())),\n",
        "print (\" RegParam: \", str(bestModel._java_obj.parent().getRegParam()))"
      ]
    },
    {
      "cell_type": "code",
      "execution_count": null,
      "metadata": {
        "id": "QLjY6-OC5HIP",
        "colab": {
          "base_uri": "https://localhost:8080/"
        },
        "outputId": "ee0c3281-c985-4f88-8131-c4317655d409"
      },
      "outputs": [
        {
          "output_type": "stream",
          "name": "stdout",
          "text": [
            "+------+-------+------+----------+\n",
            "|userId|movieId|rating|prediction|\n",
            "+------+-------+------+----------+\n",
            "|   133|    471|   4.0| 3.2452536|\n",
            "|   362|   1645|   5.0| 3.6245685|\n",
            "|   108|   1959|   5.0| 3.6549861|\n",
            "|    34|   3997|   2.0| 1.5559446|\n",
            "|    28|   1580|   3.0| 3.2152839|\n",
            "|   436|    471|   3.0| 3.7532113|\n",
            "|   332|   2366|   3.5| 3.5895798|\n",
            "|   577|   1580|   3.0| 3.1676083|\n",
            "|   577|   1959|   4.0| 3.3124042|\n",
            "|   606|   1829|   3.5| 1.8709686|\n",
            "|   606|   6466|   4.0| 3.8712986|\n",
            "|   606|  44022|   4.0|  2.819061|\n",
            "|    91|   1580|   3.5| 3.5220344|\n",
            "|    93|   1580|   5.0| 4.4972005|\n",
            "|   599|   1088|   2.5|  2.250994|\n",
            "|   599|   3997|   0.5| 1.8440123|\n",
            "|   599|   4519|   2.5|  2.571497|\n",
            "|   599|   7340|   2.0| 2.1722326|\n",
            "|   599|   8638|   3.0| 2.9762316|\n",
            "|   140|   3175|   2.5| 3.2779505|\n",
            "+------+-------+------+----------+\n",
            "only showing top 20 rows\n",
            "\n"
          ]
        }
      ],
      "source": [
        "predictions.show()"
      ]
    },
    {
      "cell_type": "markdown",
      "metadata": {
        "id": "rD63B3RE5JdX"
      },
      "source": [
        "## Model apply and see the performance"
      ]
    },
    {
      "cell_type": "code",
      "execution_count": null,
      "metadata": {
        "id": "-ma-QzXv5KQ1",
        "colab": {
          "base_uri": "https://localhost:8080/"
        },
        "outputId": "30b9c8f9-1816-42a9-b670-706359b5d650"
      },
      "outputs": [
        {
          "output_type": "stream",
          "name": "stdout",
          "text": [
            "RMSE = 0.5810631491185407\n"
          ]
        }
      ],
      "source": [
        "alldata = bestModel.transform(movie_ratings)\n",
        "rmse = evaluator.evaluate(alldata)\n",
        "print (\"RMSE = \"+str(rmse))"
      ]
    },
    {
      "cell_type": "code",
      "execution_count": null,
      "metadata": {
        "id": "glJ7XjAk5P--",
        "colab": {
          "base_uri": "https://localhost:8080/"
        },
        "outputId": "ae04d4e3-7418-42d7-894b-406c7264328b"
      },
      "outputs": [
        {
          "output_type": "stream",
          "name": "stderr",
          "text": [
            "/content/spark-3.2.1-bin-hadoop3.2/python/pyspark/sql/dataframe.py:138: FutureWarning: Deprecated in 2.0, use createOrReplaceTempView instead.\n",
            "  warnings.warn(\n"
          ]
        }
      ],
      "source": [
        "alldata.registerTempTable(\"alldata\")"
      ]
    },
    {
      "cell_type": "code",
      "execution_count": null,
      "metadata": {
        "id": "BW0908ad5R42",
        "colab": {
          "base_uri": "https://localhost:8080/"
        },
        "outputId": "d3546842-6220-415a-f470-a04f0a47541a"
      },
      "outputs": [
        {
          "output_type": "stream",
          "name": "stdout",
          "text": [
            "+------+-------+------+----------+\n",
            "|userId|movieId|rating|prediction|\n",
            "+------+-------+------+----------+\n",
            "|   463|   1088|   3.5| 3.2349572|\n",
            "|   137|   1580|   3.5|  3.522793|\n",
            "|   580|   1580|   4.0|  3.747803|\n",
            "|   580|   3175|   2.5| 3.1512356|\n",
            "|   580|  44022|   3.5| 3.4515443|\n",
            "|   133|    471|   4.0| 3.2452536|\n",
            "|   322|   1580|   3.5| 3.2989304|\n",
            "|   362|   1591|   4.0| 3.3385642|\n",
            "|   362|   1645|   5.0| 3.6245685|\n",
            "|   593|   1580|   1.5| 2.6048224|\n",
            "|   597|    471|   2.0| 3.4603248|\n",
            "|   597|   1580|   3.0| 3.4562068|\n",
            "|   597|   1959|   4.0| 3.9559321|\n",
            "|   597|   2366|   5.0| 4.4374223|\n",
            "|   108|   1959|   5.0| 3.6549861|\n",
            "|   155|   1580|   4.0|  3.833286|\n",
            "|   155|   3175|   4.0| 3.7995005|\n",
            "|    34|   1580|   2.5| 2.8371298|\n",
            "|    34|   3997|   2.0| 1.5559446|\n",
            "|   368|   1580|   3.0|  3.103555|\n",
            "+------+-------+------+----------+\n",
            "only showing top 20 rows\n",
            "\n"
          ]
        }
      ],
      "source": [
        "spark.sql(\"Select * From alldata\").show()"
      ]
    },
    {
      "cell_type": "code",
      "execution_count": null,
      "metadata": {
        "id": "hmVDrwsD5TYY",
        "colab": {
          "base_uri": "https://localhost:8080/"
        },
        "outputId": "f3a57b1c-bc07-41ee-aeb8-3a36f502f5c8"
      },
      "outputs": [
        {
          "output_type": "stream",
          "name": "stdout",
          "text": [
            "+-------+--------------------+--------------------+------+-------+------+----------+\n",
            "|movieId|               title|              genres|userId|movieId|rating|prediction|\n",
            "+-------+--------------------+--------------------+------+-------+------+----------+\n",
            "|   1088|Dirty Dancing (1987)|Drama|Musical|Rom...|   463|   1088|   3.5| 3.2349572|\n",
            "|   1580|Men in Black (a.k...|Action|Comedy|Sci-Fi|   137|   1580|   3.5|  3.522793|\n",
            "|   1580|Men in Black (a.k...|Action|Comedy|Sci-Fi|   580|   1580|   4.0|  3.747803|\n",
            "|   3175| Galaxy Quest (1999)|Adventure|Comedy|...|   580|   3175|   2.5| 3.1512356|\n",
            "|  44022|Ice Age 2: The Me...|Adventure|Animati...|   580|  44022|   3.5| 3.4515443|\n",
            "|    471|Hudsucker Proxy, ...|              Comedy|   133|    471|   4.0| 3.2452536|\n",
            "|   1580|Men in Black (a.k...|Action|Comedy|Sci-Fi|   322|   1580|   3.5| 3.2989304|\n",
            "|   1591|        Spawn (1997)|Action|Adventure|...|   362|   1591|   4.0| 3.3385642|\n",
            "|   1645|The Devil's Advoc...|Drama|Mystery|Thr...|   362|   1645|   5.0| 3.6245685|\n",
            "|   1580|Men in Black (a.k...|Action|Comedy|Sci-Fi|   593|   1580|   1.5| 2.6048224|\n",
            "|    471|Hudsucker Proxy, ...|              Comedy|   597|    471|   2.0| 3.4603248|\n",
            "|   1580|Men in Black (a.k...|Action|Comedy|Sci-Fi|   597|   1580|   3.0| 3.4562068|\n",
            "|   1959|Out of Africa (1985)|       Drama|Romance|   597|   1959|   4.0| 3.9559321|\n",
            "|   2366|    King Kong (1933)|Action|Adventure|...|   597|   2366|   5.0| 4.4374223|\n",
            "|   1959|Out of Africa (1985)|       Drama|Romance|   108|   1959|   5.0| 3.6549861|\n",
            "|   1580|Men in Black (a.k...|Action|Comedy|Sci-Fi|   155|   1580|   4.0|  3.833286|\n",
            "|   3175| Galaxy Quest (1999)|Adventure|Comedy|...|   155|   3175|   4.0| 3.7995005|\n",
            "|   1580|Men in Black (a.k...|Action|Comedy|Sci-Fi|    34|   1580|   2.5| 2.8371298|\n",
            "|   3997|Dungeons & Dragon...|Action|Adventure|...|    34|   3997|   2.0| 1.5559446|\n",
            "|   1580|Men in Black (a.k...|Action|Comedy|Sci-Fi|   368|   1580|   3.0|  3.103555|\n",
            "+-------+--------------------+--------------------+------+-------+------+----------+\n",
            "only showing top 20 rows\n",
            "\n"
          ]
        }
      ],
      "source": [
        "spark.sql('SELECT * ' +\\\n",
        "          'FROM movies ' +\\\n",
        "\t          'JOIN alldata ON movies.movieId = alldata.movieId').show()"
      ]
    },
    {
      "cell_type": "code",
      "source": [
        "bestModel.recommendForAllUsers(10).show()"
      ],
      "metadata": {
        "colab": {
          "base_uri": "https://localhost:8080/"
        },
        "id": "ECZIv7QqEvbK",
        "outputId": "e44aea37-a232-4a21-c508-feec7f7d2b5c"
      },
      "execution_count": null,
      "outputs": [
        {
          "output_type": "stream",
          "name": "stderr",
          "text": [
            "/content/spark-3.2.1-bin-hadoop3.2/python/pyspark/sql/context.py:125: FutureWarning: Deprecated in 3.0.0. Use SparkSession.builder.getOrCreate() instead.\n",
            "  warnings.warn(\n"
          ]
        },
        {
          "output_type": "stream",
          "name": "stdout",
          "text": [
            "+------+--------------------+\n",
            "|userId|     recommendations|\n",
            "+------+--------------------+\n",
            "|     1|[{720, 5.444514},...|\n",
            "|     3|[{5746, 4.9228907...|\n",
            "|     5|[{1212, 4.9211745...|\n",
            "|     6|[{720, 4.6411986}...|\n",
            "|     9|[{1080, 4.9378695...|\n",
            "|    12|[{32892, 5.765598...|\n",
            "|    13|[{2571, 4.7735825...|\n",
            "|    15|[{4535, 4.590481}...|\n",
            "|    16|[{1218, 4.272801}...|\n",
            "|    17|[{171495, 4.87606...|\n",
            "|    19|[{1658, 4.013138}...|\n",
            "|    20|[{5915, 5.26981},...|\n",
            "|    22|[{599, 4.5888376}...|\n",
            "|    26|[{33649, 4.077074...|\n",
            "|    27|[{42730, 4.907247...|\n",
            "|    28|[{7842, 4.4621706...|\n",
            "|    31|[{3200, 5.2412133...|\n",
            "|    34|[{6618, 4.476762}...|\n",
            "|    35|[{356, 5.336598},...|\n",
            "|    37|[{7387, 5.2983513...|\n",
            "+------+--------------------+\n",
            "only showing top 20 rows\n",
            "\n"
          ]
        }
      ]
    },
    {
      "cell_type": "markdown",
      "metadata": {
        "id": "yxBmNgFCNgaO"
      },
      "source": [
        "## Summary：\n",
        "1. A new user inputs his/her favorite movies, then system create new user-movie interaction samples for the model (or based on a user's previous records)\n",
        "\n",
        "\n",
        "2. System retrains ALS model on data with the new inputs\n",
        "System creates movie data for inference (in this case, we sample all movies from the data)\n",
        "\n",
        "\n",
        "3. System make rating predictions on all movies for that user\n",
        "\n",
        "\n",
        "4. System outputs top N movie recommendations for that user based on the ranking of movie rating predictions"
      ]
    },
    {
      "cell_type": "markdown",
      "metadata": {
        "id": "UGITMi8k5uOx"
      },
      "source": [
        "## Recommend moive to users with id: 575, 232.\n",
        "you can choose some users to recommend the moives"
      ]
    },
    {
      "cell_type": "code",
      "execution_count": null,
      "metadata": {
        "id": "QjBgEltJ5rYw",
        "colab": {
          "base_uri": "https://localhost:8080/",
          "height": 397
        },
        "outputId": "768409eb-4c43-4774-f6f1-fe1065d0adcc"
      },
      "outputs": [
        {
          "output_type": "execute_result",
          "data": {
            "text/plain": [
              "   movieId                                             title  \\\n",
              "1     1172    Cinema Paradiso (Nuovo cinema Paradiso) (1989)   \n",
              "2   177593  Three Billboards Outside Ebbing, Missouri (2017)   \n",
              "3     5915         Victory (a.k.a. Escape to Victory) (1981)   \n",
              "4      318                  Shawshank Redemption, The (1994)   \n",
              "5     3949                        Requiem for a Dream (2000)   \n",
              "6    92259                               Intouchables (2011)   \n",
              "7     1222                          Full Metal Jacket (1987)   \n",
              "8     2324        Life Is Beautiful (La Vita è bella) (1997)   \n",
              "9   132333                                       Seve (2014)   \n",
              "10     778                              Trainspotting (1996)   \n",
              "\n",
              "                      genres  predicted_ratings  \n",
              "1                      Drama           5.086750  \n",
              "2                Crime|Drama           5.067769  \n",
              "3           Action|Drama|War           4.974461  \n",
              "4                Crime|Drama           4.904231  \n",
              "5                      Drama           4.840018  \n",
              "6               Comedy|Drama           4.809211  \n",
              "7                  Drama|War           4.805799  \n",
              "8   Comedy|Drama|Romance|War           4.793945  \n",
              "9          Documentary|Drama           4.793003  \n",
              "10        Comedy|Crime|Drama           4.783842  "
            ],
            "text/html": [
              "\n",
              "  <div id=\"df-a0880142-40a3-42ee-ac34-404ba21a0919\" class=\"colab-df-container\">\n",
              "    <div>\n",
              "<style scoped>\n",
              "    .dataframe tbody tr th:only-of-type {\n",
              "        vertical-align: middle;\n",
              "    }\n",
              "\n",
              "    .dataframe tbody tr th {\n",
              "        vertical-align: top;\n",
              "    }\n",
              "\n",
              "    .dataframe thead th {\n",
              "        text-align: right;\n",
              "    }\n",
              "</style>\n",
              "<table border=\"1\" class=\"dataframe\">\n",
              "  <thead>\n",
              "    <tr style=\"text-align: right;\">\n",
              "      <th></th>\n",
              "      <th>movieId</th>\n",
              "      <th>title</th>\n",
              "      <th>genres</th>\n",
              "      <th>predicted_ratings</th>\n",
              "    </tr>\n",
              "  </thead>\n",
              "  <tbody>\n",
              "    <tr>\n",
              "      <th>1</th>\n",
              "      <td>1172</td>\n",
              "      <td>Cinema Paradiso (Nuovo cinema Paradiso) (1989)</td>\n",
              "      <td>Drama</td>\n",
              "      <td>5.086750</td>\n",
              "    </tr>\n",
              "    <tr>\n",
              "      <th>2</th>\n",
              "      <td>177593</td>\n",
              "      <td>Three Billboards Outside Ebbing, Missouri (2017)</td>\n",
              "      <td>Crime|Drama</td>\n",
              "      <td>5.067769</td>\n",
              "    </tr>\n",
              "    <tr>\n",
              "      <th>3</th>\n",
              "      <td>5915</td>\n",
              "      <td>Victory (a.k.a. Escape to Victory) (1981)</td>\n",
              "      <td>Action|Drama|War</td>\n",
              "      <td>4.974461</td>\n",
              "    </tr>\n",
              "    <tr>\n",
              "      <th>4</th>\n",
              "      <td>318</td>\n",
              "      <td>Shawshank Redemption, The (1994)</td>\n",
              "      <td>Crime|Drama</td>\n",
              "      <td>4.904231</td>\n",
              "    </tr>\n",
              "    <tr>\n",
              "      <th>5</th>\n",
              "      <td>3949</td>\n",
              "      <td>Requiem for a Dream (2000)</td>\n",
              "      <td>Drama</td>\n",
              "      <td>4.840018</td>\n",
              "    </tr>\n",
              "    <tr>\n",
              "      <th>6</th>\n",
              "      <td>92259</td>\n",
              "      <td>Intouchables (2011)</td>\n",
              "      <td>Comedy|Drama</td>\n",
              "      <td>4.809211</td>\n",
              "    </tr>\n",
              "    <tr>\n",
              "      <th>7</th>\n",
              "      <td>1222</td>\n",
              "      <td>Full Metal Jacket (1987)</td>\n",
              "      <td>Drama|War</td>\n",
              "      <td>4.805799</td>\n",
              "    </tr>\n",
              "    <tr>\n",
              "      <th>8</th>\n",
              "      <td>2324</td>\n",
              "      <td>Life Is Beautiful (La Vita è bella) (1997)</td>\n",
              "      <td>Comedy|Drama|Romance|War</td>\n",
              "      <td>4.793945</td>\n",
              "    </tr>\n",
              "    <tr>\n",
              "      <th>9</th>\n",
              "      <td>132333</td>\n",
              "      <td>Seve (2014)</td>\n",
              "      <td>Documentary|Drama</td>\n",
              "      <td>4.793003</td>\n",
              "    </tr>\n",
              "    <tr>\n",
              "      <th>10</th>\n",
              "      <td>778</td>\n",
              "      <td>Trainspotting (1996)</td>\n",
              "      <td>Comedy|Crime|Drama</td>\n",
              "      <td>4.783842</td>\n",
              "    </tr>\n",
              "  </tbody>\n",
              "</table>\n",
              "</div>\n",
              "    <div class=\"colab-df-buttons\">\n",
              "\n",
              "  <div class=\"colab-df-container\">\n",
              "    <button class=\"colab-df-convert\" onclick=\"convertToInteractive('df-a0880142-40a3-42ee-ac34-404ba21a0919')\"\n",
              "            title=\"Convert this dataframe to an interactive table.\"\n",
              "            style=\"display:none;\">\n",
              "\n",
              "  <svg xmlns=\"http://www.w3.org/2000/svg\" height=\"24px\" viewBox=\"0 -960 960 960\">\n",
              "    <path d=\"M120-120v-720h720v720H120Zm60-500h600v-160H180v160Zm220 220h160v-160H400v160Zm0 220h160v-160H400v160ZM180-400h160v-160H180v160Zm440 0h160v-160H620v160ZM180-180h160v-160H180v160Zm440 0h160v-160H620v160Z\"/>\n",
              "  </svg>\n",
              "    </button>\n",
              "\n",
              "  <style>\n",
              "    .colab-df-container {\n",
              "      display:flex;\n",
              "      gap: 12px;\n",
              "    }\n",
              "\n",
              "    .colab-df-convert {\n",
              "      background-color: #E8F0FE;\n",
              "      border: none;\n",
              "      border-radius: 50%;\n",
              "      cursor: pointer;\n",
              "      display: none;\n",
              "      fill: #1967D2;\n",
              "      height: 32px;\n",
              "      padding: 0 0 0 0;\n",
              "      width: 32px;\n",
              "    }\n",
              "\n",
              "    .colab-df-convert:hover {\n",
              "      background-color: #E2EBFA;\n",
              "      box-shadow: 0px 1px 2px rgba(60, 64, 67, 0.3), 0px 1px 3px 1px rgba(60, 64, 67, 0.15);\n",
              "      fill: #174EA6;\n",
              "    }\n",
              "\n",
              "    .colab-df-buttons div {\n",
              "      margin-bottom: 4px;\n",
              "    }\n",
              "\n",
              "    [theme=dark] .colab-df-convert {\n",
              "      background-color: #3B4455;\n",
              "      fill: #D2E3FC;\n",
              "    }\n",
              "\n",
              "    [theme=dark] .colab-df-convert:hover {\n",
              "      background-color: #434B5C;\n",
              "      box-shadow: 0px 1px 3px 1px rgba(0, 0, 0, 0.15);\n",
              "      filter: drop-shadow(0px 1px 2px rgba(0, 0, 0, 0.3));\n",
              "      fill: #FFFFFF;\n",
              "    }\n",
              "  </style>\n",
              "\n",
              "    <script>\n",
              "      const buttonEl =\n",
              "        document.querySelector('#df-a0880142-40a3-42ee-ac34-404ba21a0919 button.colab-df-convert');\n",
              "      buttonEl.style.display =\n",
              "        google.colab.kernel.accessAllowed ? 'block' : 'none';\n",
              "\n",
              "      async function convertToInteractive(key) {\n",
              "        const element = document.querySelector('#df-a0880142-40a3-42ee-ac34-404ba21a0919');\n",
              "        const dataTable =\n",
              "          await google.colab.kernel.invokeFunction('convertToInteractive',\n",
              "                                                    [key], {});\n",
              "        if (!dataTable) return;\n",
              "\n",
              "        const docLinkHtml = 'Like what you see? Visit the ' +\n",
              "          '<a target=\"_blank\" href=https://colab.research.google.com/notebooks/data_table.ipynb>data table notebook</a>'\n",
              "          + ' to learn more about interactive tables.';\n",
              "        element.innerHTML = '';\n",
              "        dataTable['output_type'] = 'display_data';\n",
              "        await google.colab.output.renderOutput(dataTable, element);\n",
              "        const docLink = document.createElement('div');\n",
              "        docLink.innerHTML = docLinkHtml;\n",
              "        element.appendChild(docLink);\n",
              "      }\n",
              "    </script>\n",
              "  </div>\n",
              "\n",
              "\n",
              "<div id=\"df-9ca2d149-d6fc-4080-af71-91aa576b05af\">\n",
              "  <button class=\"colab-df-quickchart\" onclick=\"quickchart('df-9ca2d149-d6fc-4080-af71-91aa576b05af')\"\n",
              "            title=\"Suggest charts.\"\n",
              "            style=\"display:none;\">\n",
              "\n",
              "<svg xmlns=\"http://www.w3.org/2000/svg\" height=\"24px\"viewBox=\"0 0 24 24\"\n",
              "     width=\"24px\">\n",
              "    <g>\n",
              "        <path d=\"M19 3H5c-1.1 0-2 .9-2 2v14c0 1.1.9 2 2 2h14c1.1 0 2-.9 2-2V5c0-1.1-.9-2-2-2zM9 17H7v-7h2v7zm4 0h-2V7h2v10zm4 0h-2v-4h2v4z\"/>\n",
              "    </g>\n",
              "</svg>\n",
              "  </button>\n",
              "\n",
              "<style>\n",
              "  .colab-df-quickchart {\n",
              "      --bg-color: #E8F0FE;\n",
              "      --fill-color: #1967D2;\n",
              "      --hover-bg-color: #E2EBFA;\n",
              "      --hover-fill-color: #174EA6;\n",
              "      --disabled-fill-color: #AAA;\n",
              "      --disabled-bg-color: #DDD;\n",
              "  }\n",
              "\n",
              "  [theme=dark] .colab-df-quickchart {\n",
              "      --bg-color: #3B4455;\n",
              "      --fill-color: #D2E3FC;\n",
              "      --hover-bg-color: #434B5C;\n",
              "      --hover-fill-color: #FFFFFF;\n",
              "      --disabled-bg-color: #3B4455;\n",
              "      --disabled-fill-color: #666;\n",
              "  }\n",
              "\n",
              "  .colab-df-quickchart {\n",
              "    background-color: var(--bg-color);\n",
              "    border: none;\n",
              "    border-radius: 50%;\n",
              "    cursor: pointer;\n",
              "    display: none;\n",
              "    fill: var(--fill-color);\n",
              "    height: 32px;\n",
              "    padding: 0;\n",
              "    width: 32px;\n",
              "  }\n",
              "\n",
              "  .colab-df-quickchart:hover {\n",
              "    background-color: var(--hover-bg-color);\n",
              "    box-shadow: 0 1px 2px rgba(60, 64, 67, 0.3), 0 1px 3px 1px rgba(60, 64, 67, 0.15);\n",
              "    fill: var(--button-hover-fill-color);\n",
              "  }\n",
              "\n",
              "  .colab-df-quickchart-complete:disabled,\n",
              "  .colab-df-quickchart-complete:disabled:hover {\n",
              "    background-color: var(--disabled-bg-color);\n",
              "    fill: var(--disabled-fill-color);\n",
              "    box-shadow: none;\n",
              "  }\n",
              "\n",
              "  .colab-df-spinner {\n",
              "    border: 2px solid var(--fill-color);\n",
              "    border-color: transparent;\n",
              "    border-bottom-color: var(--fill-color);\n",
              "    animation:\n",
              "      spin 1s steps(1) infinite;\n",
              "  }\n",
              "\n",
              "  @keyframes spin {\n",
              "    0% {\n",
              "      border-color: transparent;\n",
              "      border-bottom-color: var(--fill-color);\n",
              "      border-left-color: var(--fill-color);\n",
              "    }\n",
              "    20% {\n",
              "      border-color: transparent;\n",
              "      border-left-color: var(--fill-color);\n",
              "      border-top-color: var(--fill-color);\n",
              "    }\n",
              "    30% {\n",
              "      border-color: transparent;\n",
              "      border-left-color: var(--fill-color);\n",
              "      border-top-color: var(--fill-color);\n",
              "      border-right-color: var(--fill-color);\n",
              "    }\n",
              "    40% {\n",
              "      border-color: transparent;\n",
              "      border-right-color: var(--fill-color);\n",
              "      border-top-color: var(--fill-color);\n",
              "    }\n",
              "    60% {\n",
              "      border-color: transparent;\n",
              "      border-right-color: var(--fill-color);\n",
              "    }\n",
              "    80% {\n",
              "      border-color: transparent;\n",
              "      border-right-color: var(--fill-color);\n",
              "      border-bottom-color: var(--fill-color);\n",
              "    }\n",
              "    90% {\n",
              "      border-color: transparent;\n",
              "      border-bottom-color: var(--fill-color);\n",
              "    }\n",
              "  }\n",
              "</style>\n",
              "\n",
              "  <script>\n",
              "    async function quickchart(key) {\n",
              "      const quickchartButtonEl =\n",
              "        document.querySelector('#' + key + ' button');\n",
              "      quickchartButtonEl.disabled = true;  // To prevent multiple clicks.\n",
              "      quickchartButtonEl.classList.add('colab-df-spinner');\n",
              "      try {\n",
              "        const charts = await google.colab.kernel.invokeFunction(\n",
              "            'suggestCharts', [key], {});\n",
              "      } catch (error) {\n",
              "        console.error('Error during call to suggestCharts:', error);\n",
              "      }\n",
              "      quickchartButtonEl.classList.remove('colab-df-spinner');\n",
              "      quickchartButtonEl.classList.add('colab-df-quickchart-complete');\n",
              "    }\n",
              "    (() => {\n",
              "      let quickchartButtonEl =\n",
              "        document.querySelector('#df-9ca2d149-d6fc-4080-af71-91aa576b05af button');\n",
              "      quickchartButtonEl.style.display =\n",
              "        google.colab.kernel.accessAllowed ? 'block' : 'none';\n",
              "    })();\n",
              "  </script>\n",
              "</div>\n",
              "    </div>\n",
              "  </div>\n"
            ]
          },
          "metadata": {},
          "execution_count": 45
        }
      ],
      "source": [
        "# define a function to package the recommendation\n",
        "def topKRecommend(k,id,model):\n",
        "  '''\n",
        "  k: the number of movies to recommend\n",
        "  id: the id of the user to give recommendations\n",
        "  model: the trained model for recommendation\n",
        "  '''\n",
        "  # the table for all top10 recommendations\n",
        "  all_recommd=model.recommendForAllUsers(k)\n",
        "  user_recommd=all_recommd.where(all_recommd.userId==id).toPandas()\n",
        "  if user_recommd.shape[0]==0:\n",
        "    print('No user with id '+str(id)+' is found in the data.')\n",
        "    return None\n",
        "  user_recommd=user_recommd.iloc[0,1]\n",
        "  user_recommd=pd.DataFrame(user_recommd,columns=['movieId','predicted_ratings'])\n",
        "  temp=None\n",
        "  for i in user_recommd['movieId']:\n",
        "    if not temp:\n",
        "      temp=movies_df.where(movies_df.movieId==str(i))\n",
        "    else:\n",
        "      temp=temp.union(movies_df.where(movies_df.movieId==str(i)))\n",
        "  out=pd.concat([temp.toPandas(),user_recommd['predicted_ratings']],axis=1)\n",
        "  out.index=range(1,k+1)\n",
        "  return out\n",
        "\n",
        "\n",
        "\n",
        "# top 10 for user 575\n",
        "topKRecommend(10,575,bestModel)"
      ]
    },
    {
      "cell_type": "code",
      "execution_count": null,
      "metadata": {
        "id": "B02U1F43uzBt",
        "colab": {
          "base_uri": "https://localhost:8080/",
          "height": 576
        },
        "outputId": "8a4bcfcc-07e1-4790-ea56-ecc753d1932c"
      },
      "outputs": [
        {
          "output_type": "stream",
          "name": "stderr",
          "text": [
            "/content/spark-3.2.1-bin-hadoop3.2/python/pyspark/sql/context.py:125: FutureWarning: Deprecated in 3.0.0. Use SparkSession.builder.getOrCreate() instead.\n",
            "  warnings.warn(\n"
          ]
        },
        {
          "output_type": "execute_result",
          "data": {
            "text/plain": [
              "   movieId                                              title  \\\n",
              "1     1272                                      Patton (1970)   \n",
              "2   171495                                             Cosmos   \n",
              "3   170705                            Band of Brothers (2001)   \n",
              "4    86237                                 Connections (1978)   \n",
              "5   138966                   Nasu: Summer in Andalusia (2003)   \n",
              "6     7071                Woman Under the Influence, A (1974)   \n",
              "7    26073  Human Condition III, The (Ningen no joken III)...   \n",
              "8   179135                              Blue Planet II (2017)   \n",
              "9    78836                              Enter the Void (2009)   \n",
              "10  117531                                   Watermark (2014)   \n",
              "11   84273                   Zeitgeist: Moving Forward (2011)   \n",
              "12  184245                            De platte jungle (1978)   \n",
              "13   74226  Dream of Light (a.k.a. Quince Tree Sun, The) (...   \n",
              "14   26928              Summer's Tale, A (Conte d'été) (1996)   \n",
              "15   27611                        Battlestar Galactica (2003)   \n",
              "\n",
              "                  genres  predicted_ratings  \n",
              "1              Drama|War           4.426577  \n",
              "2     (no genres listed)           4.388154  \n",
              "3       Action|Drama|War           4.383030  \n",
              "4            Documentary           4.381436  \n",
              "5              Animation           4.381436  \n",
              "6                  Drama           4.381436  \n",
              "7              Drama|War           4.381436  \n",
              "8            Documentary           4.381436  \n",
              "9                  Drama           4.381436  \n",
              "10           Documentary           4.381436  \n",
              "11           Documentary           4.381436  \n",
              "12           Documentary           4.381436  \n",
              "13     Documentary|Drama           4.381436  \n",
              "14  Comedy|Drama|Romance           4.381436  \n",
              "15      Drama|Sci-Fi|War           4.346156  "
            ],
            "text/html": [
              "\n",
              "  <div id=\"df-448c9f19-a743-466b-86e9-15a501661958\" class=\"colab-df-container\">\n",
              "    <div>\n",
              "<style scoped>\n",
              "    .dataframe tbody tr th:only-of-type {\n",
              "        vertical-align: middle;\n",
              "    }\n",
              "\n",
              "    .dataframe tbody tr th {\n",
              "        vertical-align: top;\n",
              "    }\n",
              "\n",
              "    .dataframe thead th {\n",
              "        text-align: right;\n",
              "    }\n",
              "</style>\n",
              "<table border=\"1\" class=\"dataframe\">\n",
              "  <thead>\n",
              "    <tr style=\"text-align: right;\">\n",
              "      <th></th>\n",
              "      <th>movieId</th>\n",
              "      <th>title</th>\n",
              "      <th>genres</th>\n",
              "      <th>predicted_ratings</th>\n",
              "    </tr>\n",
              "  </thead>\n",
              "  <tbody>\n",
              "    <tr>\n",
              "      <th>1</th>\n",
              "      <td>1272</td>\n",
              "      <td>Patton (1970)</td>\n",
              "      <td>Drama|War</td>\n",
              "      <td>4.426577</td>\n",
              "    </tr>\n",
              "    <tr>\n",
              "      <th>2</th>\n",
              "      <td>171495</td>\n",
              "      <td>Cosmos</td>\n",
              "      <td>(no genres listed)</td>\n",
              "      <td>4.388154</td>\n",
              "    </tr>\n",
              "    <tr>\n",
              "      <th>3</th>\n",
              "      <td>170705</td>\n",
              "      <td>Band of Brothers (2001)</td>\n",
              "      <td>Action|Drama|War</td>\n",
              "      <td>4.383030</td>\n",
              "    </tr>\n",
              "    <tr>\n",
              "      <th>4</th>\n",
              "      <td>86237</td>\n",
              "      <td>Connections (1978)</td>\n",
              "      <td>Documentary</td>\n",
              "      <td>4.381436</td>\n",
              "    </tr>\n",
              "    <tr>\n",
              "      <th>5</th>\n",
              "      <td>138966</td>\n",
              "      <td>Nasu: Summer in Andalusia (2003)</td>\n",
              "      <td>Animation</td>\n",
              "      <td>4.381436</td>\n",
              "    </tr>\n",
              "    <tr>\n",
              "      <th>6</th>\n",
              "      <td>7071</td>\n",
              "      <td>Woman Under the Influence, A (1974)</td>\n",
              "      <td>Drama</td>\n",
              "      <td>4.381436</td>\n",
              "    </tr>\n",
              "    <tr>\n",
              "      <th>7</th>\n",
              "      <td>26073</td>\n",
              "      <td>Human Condition III, The (Ningen no joken III)...</td>\n",
              "      <td>Drama|War</td>\n",
              "      <td>4.381436</td>\n",
              "    </tr>\n",
              "    <tr>\n",
              "      <th>8</th>\n",
              "      <td>179135</td>\n",
              "      <td>Blue Planet II (2017)</td>\n",
              "      <td>Documentary</td>\n",
              "      <td>4.381436</td>\n",
              "    </tr>\n",
              "    <tr>\n",
              "      <th>9</th>\n",
              "      <td>78836</td>\n",
              "      <td>Enter the Void (2009)</td>\n",
              "      <td>Drama</td>\n",
              "      <td>4.381436</td>\n",
              "    </tr>\n",
              "    <tr>\n",
              "      <th>10</th>\n",
              "      <td>117531</td>\n",
              "      <td>Watermark (2014)</td>\n",
              "      <td>Documentary</td>\n",
              "      <td>4.381436</td>\n",
              "    </tr>\n",
              "    <tr>\n",
              "      <th>11</th>\n",
              "      <td>84273</td>\n",
              "      <td>Zeitgeist: Moving Forward (2011)</td>\n",
              "      <td>Documentary</td>\n",
              "      <td>4.381436</td>\n",
              "    </tr>\n",
              "    <tr>\n",
              "      <th>12</th>\n",
              "      <td>184245</td>\n",
              "      <td>De platte jungle (1978)</td>\n",
              "      <td>Documentary</td>\n",
              "      <td>4.381436</td>\n",
              "    </tr>\n",
              "    <tr>\n",
              "      <th>13</th>\n",
              "      <td>74226</td>\n",
              "      <td>Dream of Light (a.k.a. Quince Tree Sun, The) (...</td>\n",
              "      <td>Documentary|Drama</td>\n",
              "      <td>4.381436</td>\n",
              "    </tr>\n",
              "    <tr>\n",
              "      <th>14</th>\n",
              "      <td>26928</td>\n",
              "      <td>Summer's Tale, A (Conte d'été) (1996)</td>\n",
              "      <td>Comedy|Drama|Romance</td>\n",
              "      <td>4.381436</td>\n",
              "    </tr>\n",
              "    <tr>\n",
              "      <th>15</th>\n",
              "      <td>27611</td>\n",
              "      <td>Battlestar Galactica (2003)</td>\n",
              "      <td>Drama|Sci-Fi|War</td>\n",
              "      <td>4.346156</td>\n",
              "    </tr>\n",
              "  </tbody>\n",
              "</table>\n",
              "</div>\n",
              "    <div class=\"colab-df-buttons\">\n",
              "\n",
              "  <div class=\"colab-df-container\">\n",
              "    <button class=\"colab-df-convert\" onclick=\"convertToInteractive('df-448c9f19-a743-466b-86e9-15a501661958')\"\n",
              "            title=\"Convert this dataframe to an interactive table.\"\n",
              "            style=\"display:none;\">\n",
              "\n",
              "  <svg xmlns=\"http://www.w3.org/2000/svg\" height=\"24px\" viewBox=\"0 -960 960 960\">\n",
              "    <path d=\"M120-120v-720h720v720H120Zm60-500h600v-160H180v160Zm220 220h160v-160H400v160Zm0 220h160v-160H400v160ZM180-400h160v-160H180v160Zm440 0h160v-160H620v160ZM180-180h160v-160H180v160Zm440 0h160v-160H620v160Z\"/>\n",
              "  </svg>\n",
              "    </button>\n",
              "\n",
              "  <style>\n",
              "    .colab-df-container {\n",
              "      display:flex;\n",
              "      gap: 12px;\n",
              "    }\n",
              "\n",
              "    .colab-df-convert {\n",
              "      background-color: #E8F0FE;\n",
              "      border: none;\n",
              "      border-radius: 50%;\n",
              "      cursor: pointer;\n",
              "      display: none;\n",
              "      fill: #1967D2;\n",
              "      height: 32px;\n",
              "      padding: 0 0 0 0;\n",
              "      width: 32px;\n",
              "    }\n",
              "\n",
              "    .colab-df-convert:hover {\n",
              "      background-color: #E2EBFA;\n",
              "      box-shadow: 0px 1px 2px rgba(60, 64, 67, 0.3), 0px 1px 3px 1px rgba(60, 64, 67, 0.15);\n",
              "      fill: #174EA6;\n",
              "    }\n",
              "\n",
              "    .colab-df-buttons div {\n",
              "      margin-bottom: 4px;\n",
              "    }\n",
              "\n",
              "    [theme=dark] .colab-df-convert {\n",
              "      background-color: #3B4455;\n",
              "      fill: #D2E3FC;\n",
              "    }\n",
              "\n",
              "    [theme=dark] .colab-df-convert:hover {\n",
              "      background-color: #434B5C;\n",
              "      box-shadow: 0px 1px 3px 1px rgba(0, 0, 0, 0.15);\n",
              "      filter: drop-shadow(0px 1px 2px rgba(0, 0, 0, 0.3));\n",
              "      fill: #FFFFFF;\n",
              "    }\n",
              "  </style>\n",
              "\n",
              "    <script>\n",
              "      const buttonEl =\n",
              "        document.querySelector('#df-448c9f19-a743-466b-86e9-15a501661958 button.colab-df-convert');\n",
              "      buttonEl.style.display =\n",
              "        google.colab.kernel.accessAllowed ? 'block' : 'none';\n",
              "\n",
              "      async function convertToInteractive(key) {\n",
              "        const element = document.querySelector('#df-448c9f19-a743-466b-86e9-15a501661958');\n",
              "        const dataTable =\n",
              "          await google.colab.kernel.invokeFunction('convertToInteractive',\n",
              "                                                    [key], {});\n",
              "        if (!dataTable) return;\n",
              "\n",
              "        const docLinkHtml = 'Like what you see? Visit the ' +\n",
              "          '<a target=\"_blank\" href=https://colab.research.google.com/notebooks/data_table.ipynb>data table notebook</a>'\n",
              "          + ' to learn more about interactive tables.';\n",
              "        element.innerHTML = '';\n",
              "        dataTable['output_type'] = 'display_data';\n",
              "        await google.colab.output.renderOutput(dataTable, element);\n",
              "        const docLink = document.createElement('div');\n",
              "        docLink.innerHTML = docLinkHtml;\n",
              "        element.appendChild(docLink);\n",
              "      }\n",
              "    </script>\n",
              "  </div>\n",
              "\n",
              "\n",
              "<div id=\"df-f7a98a97-0336-4b1c-bb7d-e3555067f81c\">\n",
              "  <button class=\"colab-df-quickchart\" onclick=\"quickchart('df-f7a98a97-0336-4b1c-bb7d-e3555067f81c')\"\n",
              "            title=\"Suggest charts.\"\n",
              "            style=\"display:none;\">\n",
              "\n",
              "<svg xmlns=\"http://www.w3.org/2000/svg\" height=\"24px\"viewBox=\"0 0 24 24\"\n",
              "     width=\"24px\">\n",
              "    <g>\n",
              "        <path d=\"M19 3H5c-1.1 0-2 .9-2 2v14c0 1.1.9 2 2 2h14c1.1 0 2-.9 2-2V5c0-1.1-.9-2-2-2zM9 17H7v-7h2v7zm4 0h-2V7h2v10zm4 0h-2v-4h2v4z\"/>\n",
              "    </g>\n",
              "</svg>\n",
              "  </button>\n",
              "\n",
              "<style>\n",
              "  .colab-df-quickchart {\n",
              "      --bg-color: #E8F0FE;\n",
              "      --fill-color: #1967D2;\n",
              "      --hover-bg-color: #E2EBFA;\n",
              "      --hover-fill-color: #174EA6;\n",
              "      --disabled-fill-color: #AAA;\n",
              "      --disabled-bg-color: #DDD;\n",
              "  }\n",
              "\n",
              "  [theme=dark] .colab-df-quickchart {\n",
              "      --bg-color: #3B4455;\n",
              "      --fill-color: #D2E3FC;\n",
              "      --hover-bg-color: #434B5C;\n",
              "      --hover-fill-color: #FFFFFF;\n",
              "      --disabled-bg-color: #3B4455;\n",
              "      --disabled-fill-color: #666;\n",
              "  }\n",
              "\n",
              "  .colab-df-quickchart {\n",
              "    background-color: var(--bg-color);\n",
              "    border: none;\n",
              "    border-radius: 50%;\n",
              "    cursor: pointer;\n",
              "    display: none;\n",
              "    fill: var(--fill-color);\n",
              "    height: 32px;\n",
              "    padding: 0;\n",
              "    width: 32px;\n",
              "  }\n",
              "\n",
              "  .colab-df-quickchart:hover {\n",
              "    background-color: var(--hover-bg-color);\n",
              "    box-shadow: 0 1px 2px rgba(60, 64, 67, 0.3), 0 1px 3px 1px rgba(60, 64, 67, 0.15);\n",
              "    fill: var(--button-hover-fill-color);\n",
              "  }\n",
              "\n",
              "  .colab-df-quickchart-complete:disabled,\n",
              "  .colab-df-quickchart-complete:disabled:hover {\n",
              "    background-color: var(--disabled-bg-color);\n",
              "    fill: var(--disabled-fill-color);\n",
              "    box-shadow: none;\n",
              "  }\n",
              "\n",
              "  .colab-df-spinner {\n",
              "    border: 2px solid var(--fill-color);\n",
              "    border-color: transparent;\n",
              "    border-bottom-color: var(--fill-color);\n",
              "    animation:\n",
              "      spin 1s steps(1) infinite;\n",
              "  }\n",
              "\n",
              "  @keyframes spin {\n",
              "    0% {\n",
              "      border-color: transparent;\n",
              "      border-bottom-color: var(--fill-color);\n",
              "      border-left-color: var(--fill-color);\n",
              "    }\n",
              "    20% {\n",
              "      border-color: transparent;\n",
              "      border-left-color: var(--fill-color);\n",
              "      border-top-color: var(--fill-color);\n",
              "    }\n",
              "    30% {\n",
              "      border-color: transparent;\n",
              "      border-left-color: var(--fill-color);\n",
              "      border-top-color: var(--fill-color);\n",
              "      border-right-color: var(--fill-color);\n",
              "    }\n",
              "    40% {\n",
              "      border-color: transparent;\n",
              "      border-right-color: var(--fill-color);\n",
              "      border-top-color: var(--fill-color);\n",
              "    }\n",
              "    60% {\n",
              "      border-color: transparent;\n",
              "      border-right-color: var(--fill-color);\n",
              "    }\n",
              "    80% {\n",
              "      border-color: transparent;\n",
              "      border-right-color: var(--fill-color);\n",
              "      border-bottom-color: var(--fill-color);\n",
              "    }\n",
              "    90% {\n",
              "      border-color: transparent;\n",
              "      border-bottom-color: var(--fill-color);\n",
              "    }\n",
              "  }\n",
              "</style>\n",
              "\n",
              "  <script>\n",
              "    async function quickchart(key) {\n",
              "      const quickchartButtonEl =\n",
              "        document.querySelector('#' + key + ' button');\n",
              "      quickchartButtonEl.disabled = true;  // To prevent multiple clicks.\n",
              "      quickchartButtonEl.classList.add('colab-df-spinner');\n",
              "      try {\n",
              "        const charts = await google.colab.kernel.invokeFunction(\n",
              "            'suggestCharts', [key], {});\n",
              "      } catch (error) {\n",
              "        console.error('Error during call to suggestCharts:', error);\n",
              "      }\n",
              "      quickchartButtonEl.classList.remove('colab-df-spinner');\n",
              "      quickchartButtonEl.classList.add('colab-df-quickchart-complete');\n",
              "    }\n",
              "    (() => {\n",
              "      let quickchartButtonEl =\n",
              "        document.querySelector('#df-f7a98a97-0336-4b1c-bb7d-e3555067f81c button');\n",
              "      quickchartButtonEl.style.display =\n",
              "        google.colab.kernel.accessAllowed ? 'block' : 'none';\n",
              "    })();\n",
              "  </script>\n",
              "</div>\n",
              "    </div>\n",
              "  </div>\n"
            ]
          },
          "metadata": {},
          "execution_count": 46
        }
      ],
      "source": [
        "# top 15 for user 232\n",
        "topKRecommend(15,232,bestModel)"
      ]
    },
    {
      "cell_type": "code",
      "source": [
        "bestModel.rank"
      ],
      "metadata": {
        "colab": {
          "base_uri": "https://localhost:8080/"
        },
        "id": "2Vxo3AXRt-NG",
        "outputId": "48a66b77-8bd7-4aec-b473-bdf95f3ae1f9"
      },
      "execution_count": null,
      "outputs": [
        {
          "output_type": "execute_result",
          "data": {
            "text/plain": [
              "25"
            ]
          },
          "metadata": {},
          "execution_count": 47
        }
      ]
    },
    {
      "cell_type": "markdown",
      "metadata": {
        "id": "61xZKXPt56iN"
      },
      "source": [
        "## Example: Find the similar moives for moive with id: 463, 471"
      ]
    },
    {
      "cell_type": "code",
      "execution_count": null,
      "metadata": {
        "id": "NOjlGTU55ul3",
        "colab": {
          "base_uri": "https://localhost:8080/"
        },
        "outputId": "3aa97409-0839-4f70-81ef-cc2cc55dbfeb"
      },
      "outputs": [
        {
          "output_type": "stream",
          "name": "stderr",
          "text": [
            "/content/spark-3.2.1-bin-hadoop3.2/python/pyspark/sql/context.py:125: FutureWarning: Deprecated in 3.0.0. Use SparkSession.builder.getOrCreate() instead.\n",
            "  warnings.warn(\n"
          ]
        },
        {
          "output_type": "stream",
          "name": "stdout",
          "text": [
            "root\n",
            " |-- id: integer (nullable = false)\n",
            " |-- features: array (nullable = true)\n",
            " |    |-- element: float (containsNull = false)\n",
            "\n",
            "+-------+------------+-----------+----------+-----------+------------+-------------+------------+------------+------------+-----------+----------+------------+-------------+-----------+------------+------------+------------+------------+------------+-------------+-------------+-------------+------------+-----------+----------+\n",
            "|movieId|    feature0|   feature1|  feature2|   feature3|    feature4|     feature5|    feature6|    feature7|    feature8|   feature9| feature10|   feature11|    feature12|  feature13|   feature14|   feature15|   feature16|   feature17|   feature18|    feature19|    feature20|    feature21|   feature22|  feature23| feature24|\n",
            "+-------+------------+-----------+----------+-----------+------------+-------------+------------+------------+------------+-----------+----------+------------+-------------+-----------+------------+------------+------------+------------+------------+-------------+-------------+-------------+------------+-----------+----------+\n",
            "|     10|  0.18171449| -0.2758383|0.80517465| -0.8264403|   0.4318619|  0.122626685|   0.5623192|   -0.463913| -0.32187986|0.025870396| 0.4460006|   0.3070001|   0.15071824|-0.25166315| -0.31862146|  0.46902922|  0.22739388| 0.014447499|  0.14363131|  -0.49629188|    0.2632103|   0.58743334| -0.02191825|-0.19965473|0.90021974|\n",
            "|     20| -0.10289114| -0.6457824| 0.2222373| -0.9870316|   0.2136278|   0.17679638|  0.34562793| -0.34781304| -0.17046347|  0.3394694|0.69646084| -0.28165615|   0.06392922|0.110124424|  -0.5239158|  0.68133575|  -0.4650086|  0.17181939| 0.023382084|  -0.07663244|  -0.30632988|   0.28114727|  0.09689973|-0.28822872|0.36436635|\n",
            "|     30|   0.0613712| -0.7983748|0.15165307| -1.2569318|-0.108673334|   0.30137095|  0.67393607|-0.031552102|  -0.2644161|-0.27216446|0.41798007| -0.67202425|   0.41956374| 0.35402262| -0.02594044|  -0.6124442| -0.35920095| -0.18720022|  0.36661246|   -0.1975017|    -0.329101|  -0.19909735| -0.52539074|-0.25544652|0.21414143|\n",
            "|     40| -0.15797247|-0.66117555| 1.2615885|-0.19008674|  0.17316614|   0.51906365|-0.004819957| -0.23497243| -0.31223288|-0.16147956|0.36390084| -0.30765536|   0.01537639|-0.22237986| -0.42596778|  0.59146935|-0.026482537| -0.07714389| -0.17489867|  0.061671097|  -0.14117269|   0.43085352| -0.14086449|-0.47546592| 1.0062141|\n",
            "|     50|-0.031227369| -0.9765876|0.46788257| -1.0696462|  -0.1250839|   0.35583618|  0.54968506| -0.70550394| -0.57535416|8.414095E-4| 0.6871408|  0.32082626|    0.5779053|-0.09711057| -0.49746606|   0.2597241|-0.088451445| -0.27177677|   0.2734766| -0.065109804|   0.17454684|    0.5365315| -0.17175493|-0.59741527|0.78549045|\n",
            "|     60| -0.48816457|-0.56261426| 0.9231058|-0.51926714|-0.019740378|    0.1713093|  0.34106305| -0.16287597| -0.33148077| 0.08520772|0.21704167|  0.19966945|   0.08237515|-0.38133416|  -0.5463668| -0.23398334| 0.102457345|  0.08410846|-0.018701537|  -0.39503977|   0.20061074|   0.34128776|  0.57988805|-0.49916613| 0.8959836|\n",
            "|     70|  0.11575918|-0.94926065| 0.6714511|-0.52310765|  0.36474854|    0.2939533|   0.2337787| -0.23957932|-0.062144008| 0.22570802| 0.8452048|-0.012960341|  -0.17880905| 0.24837427| -0.46953478|   0.1587472|  0.14324284| -0.51469344|   0.3276618|  -0.35640833|    0.4023006|   0.07371198|  0.24019766|-0.57227266| 1.0951109|\n",
            "|     80| 0.043622553|-0.91486317|0.69383806|-0.68596596|  0.08177733|    0.3438095|  0.68680525| -0.49781677|  -0.3448393|-0.12446154|0.56636846|  0.10101981|   0.48185843| 0.33156246|  -0.1146027| -0.11474505|-0.011594596|-0.055015218| 0.084994175|  -0.09640327| -0.011179774|  0.054105826| -0.22785604| -0.5426743| 0.6777947|\n",
            "|    100| -0.08818239| -0.6308548| 0.8966969|-0.26981658| -0.33946207|  -0.05651422|  0.41119006| -0.47623232|  -0.2641668|-0.07878631|0.42343304|  0.12140941|    0.2629689|0.039842367|  -0.3155069| -0.23092535| 0.016617104|  0.31161112| -0.13624507|  -0.27304342|-0.0020575053|   0.12612051|  0.31819218| -0.5543637| 0.6474457|\n",
            "|    110| -0.14707853|-0.54603153| 0.9194432|  -0.841139| -0.07990447|    0.3481426|   0.6180055|   -0.754293| -0.31982026| 0.16325639| 0.3386519|  0.29160804|-0.0077411267| 0.04846285| -0.35700274|   0.6356339|   0.2212292| 0.096806295|  0.51927614|  -0.16488194|   -0.2362729|   0.52589667|  0.35885665| -0.9089871|0.68585426|\n",
            "|    140| -0.06339844|-0.54522204| 0.7019545|   -0.73211|-0.038427897|   0.09109696|   0.7403291| -0.26949245| -0.32439816| 0.27598745| 0.2252517|  0.29365054|   0.17626192|-0.34233996| -0.12837625|  0.24645491|-0.048734143|  0.21685523| -0.07899763|   -0.0916319|  0.097931586|    0.4086753|  0.34759298|-0.62056786| 0.6672513|\n",
            "|    150|  0.04594926|-0.48528776| 1.0680622| -0.8240337|  0.06802442|   0.28525725|   0.5717703|  -0.4350582| -0.36468276|-0.20780689|0.33977255|  0.28447562|  -0.15281506|-0.17849949|  -0.4241356|  0.33118007| -0.50601876|   0.2682693|-0.016433798|   -0.1475633|  -0.15245564|    0.3365773|-0.041035473|-0.82550395|0.89977026|\n",
            "|    160|  0.18018351|0.061597712| 0.8648057| -0.6066196|-0.037218876|-0.0100695025|  0.50516605| -0.33658695| -0.11676753| 0.34449518|0.23976366|  0.37309903|  -0.10521279| -0.1045285| -0.39116445|  0.33763337|  0.47976696|  0.26994514| -0.39644718|   -0.3601374|   0.16906941|   0.06545625|  0.47965425| -0.8071096|0.57383233|\n",
            "|    170| -0.14798048|-0.35205817| 0.8761885|-0.66101795|-0.052804716|  -0.10224866|    0.687129| -0.42530125| -0.39993516| 0.27586848| 0.8534892|   0.3832602|  -0.25229183| 0.07652946|   -0.371559|  0.64241904|  0.30747333|  -0.2670623|  -0.2564427|  -0.09111934|   0.16857074|   0.35274753| 0.016904267| -0.6177628| 0.5236214|\n",
            "|    180|-0.004257863| -0.3995061| 0.4060146| -1.1772813| -0.16719136|   0.45597318|    0.575114| -0.45010516| -0.47331974|0.036583472| 0.2657724|   0.4359106|  0.010188112| 0.23976482|-0.051130213|  0.34983587| 0.058396123|  -0.7310964|  0.13722913|  -0.07618525|   0.09584861|   0.33781666| -0.06427828|-0.48228198| 0.8080429|\n",
            "|    190|  0.15291454| -0.9303212| 0.7266961|-0.71176404|  -0.6490333|     0.624482|   0.7356614|  0.05938759| -0.22844869|-0.48619205|0.19413573|-0.022195969|   0.55581576| 0.95648134| 0.076775216|  -0.6925296|-0.068100214| -0.20302543|  0.33027402|   0.09582055|   -0.1142043|  -0.34812942| -0.23406103|-0.46168113| 0.3380491|\n",
            "|    210| 0.059545983| -0.1601782| 0.8062766| -0.4331128| -0.24470396|   0.39054617|  0.48748675|  -0.4542872| -0.38861004| 0.29313523| 0.4173601|  0.31927577|   0.07056888| -0.1139472| -0.20229442| 0.087939925| 0.034669146|  0.26635173|  -0.1333613|-9.6881104E-4| -0.051538274|   0.21337923|  0.32681984| -0.6803493|0.65287495|\n",
            "|    220|  -0.1613516|-0.38829297|0.32603616|-0.24150744| 0.040286865|   0.04204489|  0.38485205| 0.053653937|   -0.261269| 0.12862976|0.58905506|  0.12242862|   0.07938107| 0.21550635| -0.17101955|-0.020102076|  0.09530093|  0.29364976| 0.029067535|  -0.24411415|   0.09264397|   0.06218081|  0.34550565|-0.53126556| 0.6093824|\n",
            "|    230| 0.081436366|-0.46917036| 0.9104531| -0.5090142|  0.08483707|   0.21652928|  0.47305205| -0.30406293|  -0.6266583| 0.10005714| 0.5496227|  0.07825402|    0.4844037|0.025492497|  -0.3452803| -0.21278355|  0.18468148|  0.32438108|  0.24622652|  0.035449773|   -0.2250122|-0.0059188693|  0.19794592|-0.73791265| 1.0235394|\n",
            "|    240| 0.112874754|-0.03915962|0.75380707|-0.46240383| -0.21058407|   0.17262968| 0.016545713|  -0.5355416| 0.031341072| 0.41036177|0.42824447|  0.23846938| -0.029417122| -0.1316921| -0.39072695| -0.01299283|  0.09350661| 0.124196105| 0.036536805|  -0.26584506|  0.094901115| -0.016505105|   0.3164999|-0.34125164| 0.3452848|\n",
            "+-------+------------+-----------+----------+-----------+------------+-------------+------------+------------+------------+-----------+----------+------------+-------------+-----------+------------+------------+------------+------------+------------+-------------+-------------+-------------+------------+-----------+----------+\n",
            "only showing top 20 rows\n",
            "\n"
          ]
        }
      ],
      "source": [
        "# access the movie factor matrix\n",
        "movie_factors=bestModel.itemFactors\n",
        "movie_factors.printSchema()\n",
        "comd=[\"movie_factors.selectExpr('id as movieId',\"]\n",
        "for i in range(bestModel.rank):\n",
        "  if i<bestModel.rank-1:\n",
        "    comd.append(\"'features[\"+str(i)+\"] as feature\"+str(i)+\"',\")\n",
        "  else:\n",
        "    comd.append(\"'features[\"+str(i)+\"] as feature\"+str(i)+\"'\")\n",
        "comd.append(')')\n",
        "movie_factors=eval(''.join(comd))\n",
        "movie_factors.createOrReplaceTempView('movie_factors')\n",
        "movie_factors.show()"
      ]
    },
    {
      "cell_type": "code",
      "execution_count": null,
      "metadata": {
        "id": "Ylxmk4b6FrLI"
      },
      "outputs": [],
      "source": [
        "# method 1: Euclidean distance based similarity\n",
        "# the smaller the euclidean distance between the factors, the similar the movies\n",
        "# this similarity considers the actual strength,\n",
        "# e.g. movie 1 with factor [1,2,3] and movie 2 with factor [2,4,6] are considered not similar enough\n",
        "def dist_similar(k,mid):\n",
        "  '''\n",
        "  k: number of similar movies to find\n",
        "  mid: id of the movie to find similarities\n",
        "  '''\n",
        "  movie_info=spark.sql('select * from movie_factors where movieId='+str(mid)).toPandas()\n",
        "  if movie_info.shape[0]<=0:\n",
        "    print('No movie with id '+str(mid)+' is found in the data.')\n",
        "    return None, None\n",
        "  temp=['select movieId,']\n",
        "  for i in range(bestModel.rank):\n",
        "    val=movie_info.iloc[0,i+1]\n",
        "    if val>0:\n",
        "      comd='feature'+str(i)+'-'+str(val)\n",
        "    else:\n",
        "      comd='feature'+str(i)+'+'+str(-val)\n",
        "    if i<bestModel.rank-1:\n",
        "      temp.append('('+comd+')*('+comd+') as sd'+str(i)+',')\n",
        "    else:\n",
        "      temp.append('('+comd+')*('+comd+') as sd'+str(i))\n",
        "  temp.append('from movie_factors where movieId!='+str(mid))\n",
        "  ssd=spark.sql(' '.join(temp))\n",
        "  ssd=ssd.selectExpr('movieId','sd0+sd1+sd2+sd2+sd4 as ssd').orderBy('ssd').limit(k).toPandas()\n",
        "  out=None\n",
        "  for i in ssd['movieId']:\n",
        "    if not out:\n",
        "      out=movies_df.where(movies_df.movieId==str(i))\n",
        "    else:\n",
        "      out=out.union(movies_df.where(movies_df.movieId==str(i)))\n",
        "  out=out.toPandas()\n",
        "  out.index=range(1,k+1)\n",
        "  return out, ssd"
      ]
    },
    {
      "cell_type": "code",
      "execution_count": null,
      "metadata": {
        "id": "nHYFkZbNrHsd"
      },
      "outputs": [],
      "source": [
        "# method 2: cosine similarity\n",
        "# the larger the cosine value, the smaller the two feature vectors' angle, the similar the movies\n",
        "# this similarity considers the direction only,\n",
        "# e.g. movie 1 with factor [1,2,3] and movie 2 with factor [2,4,6] are considered the same\n",
        "def cos_similar(k,mid):\n",
        "  '''\n",
        "  k: number of similar movies to find\n",
        "  mid: id of the movie to find similarities\n",
        "  '''\n",
        "  movie_info=spark.sql('select * from movie_factors where movieId='+str(mid)).toPandas()\n",
        "  if movie_info.shape[0]<=0:\n",
        "    print('No movie with id '+str(mid)+' is found in the data.')\n",
        "    return None, None\n",
        "  norm_m=sum(movie_info.iloc[0,1:].values**2)**0.5\n",
        "  temp=['select movieId,']\n",
        "  norm_str=['sqrt(']\n",
        "  for i in range(bestModel.rank):\n",
        "    comd='feature'+str(i)+'*'+str(movie_info.iloc[0,i+1])\n",
        "    temp.append(comd+' as inner'+str(i)+',')\n",
        "    if i<bestModel.rank-1:\n",
        "      norm_str.append('feature'+str(i)+'*feature'+str(i)+'+')\n",
        "    else:\n",
        "      norm_str.append('feature'+str(i)+'*feature'+str(i))\n",
        "  norm_str.append(') as norm')\n",
        "  temp.append(''.join(norm_str))\n",
        "  temp.append(' from movie_factors where movieId!='+str(mid))\n",
        "  inner=spark.sql(' '.join(temp))\n",
        "  inner=inner.selectExpr('movieId',\\\n",
        "                         '(inner0+inner1+inner2+inner3+inner4)/norm/'+str(norm_m)+' as innerP').\\\n",
        "                         orderBy('innerP',ascending=False).limit(k).toPandas()\n",
        "  out=None\n",
        "  for i in inner['movieId']:\n",
        "    if not out:\n",
        "      out=movies_df.where(movies_df.movieId==str(i))\n",
        "    else:\n",
        "      out=out.union(movies_df.where(movies_df.movieId==str(i)))\n",
        "  out=out.toPandas()\n",
        "  out.index=range(1,k+1)\n",
        "  return out, inner"
      ]
    },
    {
      "cell_type": "code",
      "execution_count": null,
      "metadata": {
        "id": "AvAbYL2IrHpm",
        "colab": {
          "base_uri": "https://localhost:8080/"
        },
        "outputId": "1b008f52-1dda-49d2-dda0-6168317d0e56"
      },
      "outputs": [
        {
          "output_type": "stream",
          "name": "stdout",
          "text": [
            "No movie with id 463 is found in the data.\n"
          ]
        }
      ],
      "source": [
        "# movie id 463, method 1, top 10 similar\n",
        "out11,ssd1=dist_similar(10,463)"
      ]
    },
    {
      "cell_type": "code",
      "execution_count": null,
      "metadata": {
        "id": "y-WLoCUxrHmv",
        "colab": {
          "base_uri": "https://localhost:8080/"
        },
        "outputId": "0b2f89c4-e136-43c7-ca85-bd33a96c0239"
      },
      "outputs": [
        {
          "output_type": "stream",
          "name": "stdout",
          "text": [
            "No movie with id 463 is found in the data.\n"
          ]
        }
      ],
      "source": [
        "# movie id 463, method 2, top 10 similar\n",
        "out12,inner1=cos_similar(10,463)"
      ]
    },
    {
      "cell_type": "code",
      "execution_count": null,
      "metadata": {
        "id": "MU1_ngYvrHjm",
        "colab": {
          "base_uri": "https://localhost:8080/",
          "height": 363
        },
        "outputId": "320273d4-49cd-474f-cd00-2140c98d177a"
      },
      "outputs": [
        {
          "output_type": "execute_result",
          "data": {
            "text/plain": [
              "   movieId                                           title  \\\n",
              "1     4784           French Lieutenant's Woman, The (1981)   \n",
              "2     6561                   Mouse That Roared, The (1959)   \n",
              "3    26681                       Bullet in the Head (1990)   \n",
              "4    50912     Paris, I Love You (Paris, je t'aime) (2006)   \n",
              "5     2570                      Walk on the Moon, A (1999)   \n",
              "6     2262                      About Last Night... (1986)   \n",
              "7     3055                        Felicia's Journey (1999)   \n",
              "8     1132  Manon of the Spring (Manon des sources) (1986)   \n",
              "9     5475                                        Z (1969)   \n",
              "10    1967                                Labyrinth (1986)   \n",
              "\n",
              "                       genres  \n",
              "1                       Drama  \n",
              "2                  Comedy|War  \n",
              "3            Action|Drama|War  \n",
              "4                     Romance  \n",
              "5               Drama|Romance  \n",
              "6        Comedy|Drama|Romance  \n",
              "7                    Thriller  \n",
              "8                       Drama  \n",
              "9      Drama|Mystery|Thriller  \n",
              "10  Adventure|Fantasy|Musical  "
            ],
            "text/html": [
              "\n",
              "  <div id=\"df-f071241e-7221-4b7d-a299-330aab090b1b\" class=\"colab-df-container\">\n",
              "    <div>\n",
              "<style scoped>\n",
              "    .dataframe tbody tr th:only-of-type {\n",
              "        vertical-align: middle;\n",
              "    }\n",
              "\n",
              "    .dataframe tbody tr th {\n",
              "        vertical-align: top;\n",
              "    }\n",
              "\n",
              "    .dataframe thead th {\n",
              "        text-align: right;\n",
              "    }\n",
              "</style>\n",
              "<table border=\"1\" class=\"dataframe\">\n",
              "  <thead>\n",
              "    <tr style=\"text-align: right;\">\n",
              "      <th></th>\n",
              "      <th>movieId</th>\n",
              "      <th>title</th>\n",
              "      <th>genres</th>\n",
              "    </tr>\n",
              "  </thead>\n",
              "  <tbody>\n",
              "    <tr>\n",
              "      <th>1</th>\n",
              "      <td>4784</td>\n",
              "      <td>French Lieutenant's Woman, The (1981)</td>\n",
              "      <td>Drama</td>\n",
              "    </tr>\n",
              "    <tr>\n",
              "      <th>2</th>\n",
              "      <td>6561</td>\n",
              "      <td>Mouse That Roared, The (1959)</td>\n",
              "      <td>Comedy|War</td>\n",
              "    </tr>\n",
              "    <tr>\n",
              "      <th>3</th>\n",
              "      <td>26681</td>\n",
              "      <td>Bullet in the Head (1990)</td>\n",
              "      <td>Action|Drama|War</td>\n",
              "    </tr>\n",
              "    <tr>\n",
              "      <th>4</th>\n",
              "      <td>50912</td>\n",
              "      <td>Paris, I Love You (Paris, je t'aime) (2006)</td>\n",
              "      <td>Romance</td>\n",
              "    </tr>\n",
              "    <tr>\n",
              "      <th>5</th>\n",
              "      <td>2570</td>\n",
              "      <td>Walk on the Moon, A (1999)</td>\n",
              "      <td>Drama|Romance</td>\n",
              "    </tr>\n",
              "    <tr>\n",
              "      <th>6</th>\n",
              "      <td>2262</td>\n",
              "      <td>About Last Night... (1986)</td>\n",
              "      <td>Comedy|Drama|Romance</td>\n",
              "    </tr>\n",
              "    <tr>\n",
              "      <th>7</th>\n",
              "      <td>3055</td>\n",
              "      <td>Felicia's Journey (1999)</td>\n",
              "      <td>Thriller</td>\n",
              "    </tr>\n",
              "    <tr>\n",
              "      <th>8</th>\n",
              "      <td>1132</td>\n",
              "      <td>Manon of the Spring (Manon des sources) (1986)</td>\n",
              "      <td>Drama</td>\n",
              "    </tr>\n",
              "    <tr>\n",
              "      <th>9</th>\n",
              "      <td>5475</td>\n",
              "      <td>Z (1969)</td>\n",
              "      <td>Drama|Mystery|Thriller</td>\n",
              "    </tr>\n",
              "    <tr>\n",
              "      <th>10</th>\n",
              "      <td>1967</td>\n",
              "      <td>Labyrinth (1986)</td>\n",
              "      <td>Adventure|Fantasy|Musical</td>\n",
              "    </tr>\n",
              "  </tbody>\n",
              "</table>\n",
              "</div>\n",
              "    <div class=\"colab-df-buttons\">\n",
              "\n",
              "  <div class=\"colab-df-container\">\n",
              "    <button class=\"colab-df-convert\" onclick=\"convertToInteractive('df-f071241e-7221-4b7d-a299-330aab090b1b')\"\n",
              "            title=\"Convert this dataframe to an interactive table.\"\n",
              "            style=\"display:none;\">\n",
              "\n",
              "  <svg xmlns=\"http://www.w3.org/2000/svg\" height=\"24px\" viewBox=\"0 -960 960 960\">\n",
              "    <path d=\"M120-120v-720h720v720H120Zm60-500h600v-160H180v160Zm220 220h160v-160H400v160Zm0 220h160v-160H400v160ZM180-400h160v-160H180v160Zm440 0h160v-160H620v160ZM180-180h160v-160H180v160Zm440 0h160v-160H620v160Z\"/>\n",
              "  </svg>\n",
              "    </button>\n",
              "\n",
              "  <style>\n",
              "    .colab-df-container {\n",
              "      display:flex;\n",
              "      gap: 12px;\n",
              "    }\n",
              "\n",
              "    .colab-df-convert {\n",
              "      background-color: #E8F0FE;\n",
              "      border: none;\n",
              "      border-radius: 50%;\n",
              "      cursor: pointer;\n",
              "      display: none;\n",
              "      fill: #1967D2;\n",
              "      height: 32px;\n",
              "      padding: 0 0 0 0;\n",
              "      width: 32px;\n",
              "    }\n",
              "\n",
              "    .colab-df-convert:hover {\n",
              "      background-color: #E2EBFA;\n",
              "      box-shadow: 0px 1px 2px rgba(60, 64, 67, 0.3), 0px 1px 3px 1px rgba(60, 64, 67, 0.15);\n",
              "      fill: #174EA6;\n",
              "    }\n",
              "\n",
              "    .colab-df-buttons div {\n",
              "      margin-bottom: 4px;\n",
              "    }\n",
              "\n",
              "    [theme=dark] .colab-df-convert {\n",
              "      background-color: #3B4455;\n",
              "      fill: #D2E3FC;\n",
              "    }\n",
              "\n",
              "    [theme=dark] .colab-df-convert:hover {\n",
              "      background-color: #434B5C;\n",
              "      box-shadow: 0px 1px 3px 1px rgba(0, 0, 0, 0.15);\n",
              "      filter: drop-shadow(0px 1px 2px rgba(0, 0, 0, 0.3));\n",
              "      fill: #FFFFFF;\n",
              "    }\n",
              "  </style>\n",
              "\n",
              "    <script>\n",
              "      const buttonEl =\n",
              "        document.querySelector('#df-f071241e-7221-4b7d-a299-330aab090b1b button.colab-df-convert');\n",
              "      buttonEl.style.display =\n",
              "        google.colab.kernel.accessAllowed ? 'block' : 'none';\n",
              "\n",
              "      async function convertToInteractive(key) {\n",
              "        const element = document.querySelector('#df-f071241e-7221-4b7d-a299-330aab090b1b');\n",
              "        const dataTable =\n",
              "          await google.colab.kernel.invokeFunction('convertToInteractive',\n",
              "                                                    [key], {});\n",
              "        if (!dataTable) return;\n",
              "\n",
              "        const docLinkHtml = 'Like what you see? Visit the ' +\n",
              "          '<a target=\"_blank\" href=https://colab.research.google.com/notebooks/data_table.ipynb>data table notebook</a>'\n",
              "          + ' to learn more about interactive tables.';\n",
              "        element.innerHTML = '';\n",
              "        dataTable['output_type'] = 'display_data';\n",
              "        await google.colab.output.renderOutput(dataTable, element);\n",
              "        const docLink = document.createElement('div');\n",
              "        docLink.innerHTML = docLinkHtml;\n",
              "        element.appendChild(docLink);\n",
              "      }\n",
              "    </script>\n",
              "  </div>\n",
              "\n",
              "\n",
              "<div id=\"df-f1062289-9e87-43ca-80a6-28f3bc340643\">\n",
              "  <button class=\"colab-df-quickchart\" onclick=\"quickchart('df-f1062289-9e87-43ca-80a6-28f3bc340643')\"\n",
              "            title=\"Suggest charts.\"\n",
              "            style=\"display:none;\">\n",
              "\n",
              "<svg xmlns=\"http://www.w3.org/2000/svg\" height=\"24px\"viewBox=\"0 0 24 24\"\n",
              "     width=\"24px\">\n",
              "    <g>\n",
              "        <path d=\"M19 3H5c-1.1 0-2 .9-2 2v14c0 1.1.9 2 2 2h14c1.1 0 2-.9 2-2V5c0-1.1-.9-2-2-2zM9 17H7v-7h2v7zm4 0h-2V7h2v10zm4 0h-2v-4h2v4z\"/>\n",
              "    </g>\n",
              "</svg>\n",
              "  </button>\n",
              "\n",
              "<style>\n",
              "  .colab-df-quickchart {\n",
              "      --bg-color: #E8F0FE;\n",
              "      --fill-color: #1967D2;\n",
              "      --hover-bg-color: #E2EBFA;\n",
              "      --hover-fill-color: #174EA6;\n",
              "      --disabled-fill-color: #AAA;\n",
              "      --disabled-bg-color: #DDD;\n",
              "  }\n",
              "\n",
              "  [theme=dark] .colab-df-quickchart {\n",
              "      --bg-color: #3B4455;\n",
              "      --fill-color: #D2E3FC;\n",
              "      --hover-bg-color: #434B5C;\n",
              "      --hover-fill-color: #FFFFFF;\n",
              "      --disabled-bg-color: #3B4455;\n",
              "      --disabled-fill-color: #666;\n",
              "  }\n",
              "\n",
              "  .colab-df-quickchart {\n",
              "    background-color: var(--bg-color);\n",
              "    border: none;\n",
              "    border-radius: 50%;\n",
              "    cursor: pointer;\n",
              "    display: none;\n",
              "    fill: var(--fill-color);\n",
              "    height: 32px;\n",
              "    padding: 0;\n",
              "    width: 32px;\n",
              "  }\n",
              "\n",
              "  .colab-df-quickchart:hover {\n",
              "    background-color: var(--hover-bg-color);\n",
              "    box-shadow: 0 1px 2px rgba(60, 64, 67, 0.3), 0 1px 3px 1px rgba(60, 64, 67, 0.15);\n",
              "    fill: var(--button-hover-fill-color);\n",
              "  }\n",
              "\n",
              "  .colab-df-quickchart-complete:disabled,\n",
              "  .colab-df-quickchart-complete:disabled:hover {\n",
              "    background-color: var(--disabled-bg-color);\n",
              "    fill: var(--disabled-fill-color);\n",
              "    box-shadow: none;\n",
              "  }\n",
              "\n",
              "  .colab-df-spinner {\n",
              "    border: 2px solid var(--fill-color);\n",
              "    border-color: transparent;\n",
              "    border-bottom-color: var(--fill-color);\n",
              "    animation:\n",
              "      spin 1s steps(1) infinite;\n",
              "  }\n",
              "\n",
              "  @keyframes spin {\n",
              "    0% {\n",
              "      border-color: transparent;\n",
              "      border-bottom-color: var(--fill-color);\n",
              "      border-left-color: var(--fill-color);\n",
              "    }\n",
              "    20% {\n",
              "      border-color: transparent;\n",
              "      border-left-color: var(--fill-color);\n",
              "      border-top-color: var(--fill-color);\n",
              "    }\n",
              "    30% {\n",
              "      border-color: transparent;\n",
              "      border-left-color: var(--fill-color);\n",
              "      border-top-color: var(--fill-color);\n",
              "      border-right-color: var(--fill-color);\n",
              "    }\n",
              "    40% {\n",
              "      border-color: transparent;\n",
              "      border-right-color: var(--fill-color);\n",
              "      border-top-color: var(--fill-color);\n",
              "    }\n",
              "    60% {\n",
              "      border-color: transparent;\n",
              "      border-right-color: var(--fill-color);\n",
              "    }\n",
              "    80% {\n",
              "      border-color: transparent;\n",
              "      border-right-color: var(--fill-color);\n",
              "      border-bottom-color: var(--fill-color);\n",
              "    }\n",
              "    90% {\n",
              "      border-color: transparent;\n",
              "      border-bottom-color: var(--fill-color);\n",
              "    }\n",
              "  }\n",
              "</style>\n",
              "\n",
              "  <script>\n",
              "    async function quickchart(key) {\n",
              "      const quickchartButtonEl =\n",
              "        document.querySelector('#' + key + ' button');\n",
              "      quickchartButtonEl.disabled = true;  // To prevent multiple clicks.\n",
              "      quickchartButtonEl.classList.add('colab-df-spinner');\n",
              "      try {\n",
              "        const charts = await google.colab.kernel.invokeFunction(\n",
              "            'suggestCharts', [key], {});\n",
              "      } catch (error) {\n",
              "        console.error('Error during call to suggestCharts:', error);\n",
              "      }\n",
              "      quickchartButtonEl.classList.remove('colab-df-spinner');\n",
              "      quickchartButtonEl.classList.add('colab-df-quickchart-complete');\n",
              "    }\n",
              "    (() => {\n",
              "      let quickchartButtonEl =\n",
              "        document.querySelector('#df-f1062289-9e87-43ca-80a6-28f3bc340643 button');\n",
              "      quickchartButtonEl.style.display =\n",
              "        google.colab.kernel.accessAllowed ? 'block' : 'none';\n",
              "    })();\n",
              "  </script>\n",
              "</div>\n",
              "    </div>\n",
              "  </div>\n"
            ]
          },
          "metadata": {},
          "execution_count": 53
        }
      ],
      "source": [
        "# movie id 471, method 1, top 10 similar\n",
        "out21,ssd2=dist_similar(10,471)\n",
        "out21"
      ]
    },
    {
      "cell_type": "code",
      "execution_count": null,
      "metadata": {
        "id": "s6SvYz7-rHgt",
        "colab": {
          "base_uri": "https://localhost:8080/",
          "height": 363
        },
        "outputId": "f32ce4fb-969f-4d7e-ef1c-2e8d4cb277d9"
      },
      "outputs": [
        {
          "output_type": "execute_result",
          "data": {
            "text/plain": [
              "   movieId                                     title  \\\n",
              "1     2439                         Affliction (1997)   \n",
              "2     3165                      Boiling Point (1993)   \n",
              "3     1484                   Daytrippers, The (1996)   \n",
              "4      334               Vanya on 42nd Street (1994)   \n",
              "5     2024                       Rapture, The (1991)   \n",
              "6     1312                 Female Perversions (1996)   \n",
              "7     2925  Conformist, The (Conformista, Il) (1970)   \n",
              "8     2630       Besieged (a.k.a. L' Assedio) (1998)   \n",
              "9     2066                    Out of the Past (1947)   \n",
              "10    3475                Place in the Sun, A (1951)   \n",
              "\n",
              "                          genres  \n",
              "1                          Drama  \n",
              "2                   Action|Drama  \n",
              "3   Comedy|Drama|Mystery|Romance  \n",
              "4                          Drama  \n",
              "5                  Drama|Mystery  \n",
              "6                          Drama  \n",
              "7                          Drama  \n",
              "8                          Drama  \n",
              "9                      Film-Noir  \n",
              "10                 Drama|Romance  "
            ],
            "text/html": [
              "\n",
              "  <div id=\"df-8d269dd4-9eea-4016-9aa4-e97b061f7ce3\" class=\"colab-df-container\">\n",
              "    <div>\n",
              "<style scoped>\n",
              "    .dataframe tbody tr th:only-of-type {\n",
              "        vertical-align: middle;\n",
              "    }\n",
              "\n",
              "    .dataframe tbody tr th {\n",
              "        vertical-align: top;\n",
              "    }\n",
              "\n",
              "    .dataframe thead th {\n",
              "        text-align: right;\n",
              "    }\n",
              "</style>\n",
              "<table border=\"1\" class=\"dataframe\">\n",
              "  <thead>\n",
              "    <tr style=\"text-align: right;\">\n",
              "      <th></th>\n",
              "      <th>movieId</th>\n",
              "      <th>title</th>\n",
              "      <th>genres</th>\n",
              "    </tr>\n",
              "  </thead>\n",
              "  <tbody>\n",
              "    <tr>\n",
              "      <th>1</th>\n",
              "      <td>2439</td>\n",
              "      <td>Affliction (1997)</td>\n",
              "      <td>Drama</td>\n",
              "    </tr>\n",
              "    <tr>\n",
              "      <th>2</th>\n",
              "      <td>3165</td>\n",
              "      <td>Boiling Point (1993)</td>\n",
              "      <td>Action|Drama</td>\n",
              "    </tr>\n",
              "    <tr>\n",
              "      <th>3</th>\n",
              "      <td>1484</td>\n",
              "      <td>Daytrippers, The (1996)</td>\n",
              "      <td>Comedy|Drama|Mystery|Romance</td>\n",
              "    </tr>\n",
              "    <tr>\n",
              "      <th>4</th>\n",
              "      <td>334</td>\n",
              "      <td>Vanya on 42nd Street (1994)</td>\n",
              "      <td>Drama</td>\n",
              "    </tr>\n",
              "    <tr>\n",
              "      <th>5</th>\n",
              "      <td>2024</td>\n",
              "      <td>Rapture, The (1991)</td>\n",
              "      <td>Drama|Mystery</td>\n",
              "    </tr>\n",
              "    <tr>\n",
              "      <th>6</th>\n",
              "      <td>1312</td>\n",
              "      <td>Female Perversions (1996)</td>\n",
              "      <td>Drama</td>\n",
              "    </tr>\n",
              "    <tr>\n",
              "      <th>7</th>\n",
              "      <td>2925</td>\n",
              "      <td>Conformist, The (Conformista, Il) (1970)</td>\n",
              "      <td>Drama</td>\n",
              "    </tr>\n",
              "    <tr>\n",
              "      <th>8</th>\n",
              "      <td>2630</td>\n",
              "      <td>Besieged (a.k.a. L' Assedio) (1998)</td>\n",
              "      <td>Drama</td>\n",
              "    </tr>\n",
              "    <tr>\n",
              "      <th>9</th>\n",
              "      <td>2066</td>\n",
              "      <td>Out of the Past (1947)</td>\n",
              "      <td>Film-Noir</td>\n",
              "    </tr>\n",
              "    <tr>\n",
              "      <th>10</th>\n",
              "      <td>3475</td>\n",
              "      <td>Place in the Sun, A (1951)</td>\n",
              "      <td>Drama|Romance</td>\n",
              "    </tr>\n",
              "  </tbody>\n",
              "</table>\n",
              "</div>\n",
              "    <div class=\"colab-df-buttons\">\n",
              "\n",
              "  <div class=\"colab-df-container\">\n",
              "    <button class=\"colab-df-convert\" onclick=\"convertToInteractive('df-8d269dd4-9eea-4016-9aa4-e97b061f7ce3')\"\n",
              "            title=\"Convert this dataframe to an interactive table.\"\n",
              "            style=\"display:none;\">\n",
              "\n",
              "  <svg xmlns=\"http://www.w3.org/2000/svg\" height=\"24px\" viewBox=\"0 -960 960 960\">\n",
              "    <path d=\"M120-120v-720h720v720H120Zm60-500h600v-160H180v160Zm220 220h160v-160H400v160Zm0 220h160v-160H400v160ZM180-400h160v-160H180v160Zm440 0h160v-160H620v160ZM180-180h160v-160H180v160Zm440 0h160v-160H620v160Z\"/>\n",
              "  </svg>\n",
              "    </button>\n",
              "\n",
              "  <style>\n",
              "    .colab-df-container {\n",
              "      display:flex;\n",
              "      gap: 12px;\n",
              "    }\n",
              "\n",
              "    .colab-df-convert {\n",
              "      background-color: #E8F0FE;\n",
              "      border: none;\n",
              "      border-radius: 50%;\n",
              "      cursor: pointer;\n",
              "      display: none;\n",
              "      fill: #1967D2;\n",
              "      height: 32px;\n",
              "      padding: 0 0 0 0;\n",
              "      width: 32px;\n",
              "    }\n",
              "\n",
              "    .colab-df-convert:hover {\n",
              "      background-color: #E2EBFA;\n",
              "      box-shadow: 0px 1px 2px rgba(60, 64, 67, 0.3), 0px 1px 3px 1px rgba(60, 64, 67, 0.15);\n",
              "      fill: #174EA6;\n",
              "    }\n",
              "\n",
              "    .colab-df-buttons div {\n",
              "      margin-bottom: 4px;\n",
              "    }\n",
              "\n",
              "    [theme=dark] .colab-df-convert {\n",
              "      background-color: #3B4455;\n",
              "      fill: #D2E3FC;\n",
              "    }\n",
              "\n",
              "    [theme=dark] .colab-df-convert:hover {\n",
              "      background-color: #434B5C;\n",
              "      box-shadow: 0px 1px 3px 1px rgba(0, 0, 0, 0.15);\n",
              "      filter: drop-shadow(0px 1px 2px rgba(0, 0, 0, 0.3));\n",
              "      fill: #FFFFFF;\n",
              "    }\n",
              "  </style>\n",
              "\n",
              "    <script>\n",
              "      const buttonEl =\n",
              "        document.querySelector('#df-8d269dd4-9eea-4016-9aa4-e97b061f7ce3 button.colab-df-convert');\n",
              "      buttonEl.style.display =\n",
              "        google.colab.kernel.accessAllowed ? 'block' : 'none';\n",
              "\n",
              "      async function convertToInteractive(key) {\n",
              "        const element = document.querySelector('#df-8d269dd4-9eea-4016-9aa4-e97b061f7ce3');\n",
              "        const dataTable =\n",
              "          await google.colab.kernel.invokeFunction('convertToInteractive',\n",
              "                                                    [key], {});\n",
              "        if (!dataTable) return;\n",
              "\n",
              "        const docLinkHtml = 'Like what you see? Visit the ' +\n",
              "          '<a target=\"_blank\" href=https://colab.research.google.com/notebooks/data_table.ipynb>data table notebook</a>'\n",
              "          + ' to learn more about interactive tables.';\n",
              "        element.innerHTML = '';\n",
              "        dataTable['output_type'] = 'display_data';\n",
              "        await google.colab.output.renderOutput(dataTable, element);\n",
              "        const docLink = document.createElement('div');\n",
              "        docLink.innerHTML = docLinkHtml;\n",
              "        element.appendChild(docLink);\n",
              "      }\n",
              "    </script>\n",
              "  </div>\n",
              "\n",
              "\n",
              "<div id=\"df-c1865ffc-1143-484d-aeb6-985d923fa6f3\">\n",
              "  <button class=\"colab-df-quickchart\" onclick=\"quickchart('df-c1865ffc-1143-484d-aeb6-985d923fa6f3')\"\n",
              "            title=\"Suggest charts.\"\n",
              "            style=\"display:none;\">\n",
              "\n",
              "<svg xmlns=\"http://www.w3.org/2000/svg\" height=\"24px\"viewBox=\"0 0 24 24\"\n",
              "     width=\"24px\">\n",
              "    <g>\n",
              "        <path d=\"M19 3H5c-1.1 0-2 .9-2 2v14c0 1.1.9 2 2 2h14c1.1 0 2-.9 2-2V5c0-1.1-.9-2-2-2zM9 17H7v-7h2v7zm4 0h-2V7h2v10zm4 0h-2v-4h2v4z\"/>\n",
              "    </g>\n",
              "</svg>\n",
              "  </button>\n",
              "\n",
              "<style>\n",
              "  .colab-df-quickchart {\n",
              "      --bg-color: #E8F0FE;\n",
              "      --fill-color: #1967D2;\n",
              "      --hover-bg-color: #E2EBFA;\n",
              "      --hover-fill-color: #174EA6;\n",
              "      --disabled-fill-color: #AAA;\n",
              "      --disabled-bg-color: #DDD;\n",
              "  }\n",
              "\n",
              "  [theme=dark] .colab-df-quickchart {\n",
              "      --bg-color: #3B4455;\n",
              "      --fill-color: #D2E3FC;\n",
              "      --hover-bg-color: #434B5C;\n",
              "      --hover-fill-color: #FFFFFF;\n",
              "      --disabled-bg-color: #3B4455;\n",
              "      --disabled-fill-color: #666;\n",
              "  }\n",
              "\n",
              "  .colab-df-quickchart {\n",
              "    background-color: var(--bg-color);\n",
              "    border: none;\n",
              "    border-radius: 50%;\n",
              "    cursor: pointer;\n",
              "    display: none;\n",
              "    fill: var(--fill-color);\n",
              "    height: 32px;\n",
              "    padding: 0;\n",
              "    width: 32px;\n",
              "  }\n",
              "\n",
              "  .colab-df-quickchart:hover {\n",
              "    background-color: var(--hover-bg-color);\n",
              "    box-shadow: 0 1px 2px rgba(60, 64, 67, 0.3), 0 1px 3px 1px rgba(60, 64, 67, 0.15);\n",
              "    fill: var(--button-hover-fill-color);\n",
              "  }\n",
              "\n",
              "  .colab-df-quickchart-complete:disabled,\n",
              "  .colab-df-quickchart-complete:disabled:hover {\n",
              "    background-color: var(--disabled-bg-color);\n",
              "    fill: var(--disabled-fill-color);\n",
              "    box-shadow: none;\n",
              "  }\n",
              "\n",
              "  .colab-df-spinner {\n",
              "    border: 2px solid var(--fill-color);\n",
              "    border-color: transparent;\n",
              "    border-bottom-color: var(--fill-color);\n",
              "    animation:\n",
              "      spin 1s steps(1) infinite;\n",
              "  }\n",
              "\n",
              "  @keyframes spin {\n",
              "    0% {\n",
              "      border-color: transparent;\n",
              "      border-bottom-color: var(--fill-color);\n",
              "      border-left-color: var(--fill-color);\n",
              "    }\n",
              "    20% {\n",
              "      border-color: transparent;\n",
              "      border-left-color: var(--fill-color);\n",
              "      border-top-color: var(--fill-color);\n",
              "    }\n",
              "    30% {\n",
              "      border-color: transparent;\n",
              "      border-left-color: var(--fill-color);\n",
              "      border-top-color: var(--fill-color);\n",
              "      border-right-color: var(--fill-color);\n",
              "    }\n",
              "    40% {\n",
              "      border-color: transparent;\n",
              "      border-right-color: var(--fill-color);\n",
              "      border-top-color: var(--fill-color);\n",
              "    }\n",
              "    60% {\n",
              "      border-color: transparent;\n",
              "      border-right-color: var(--fill-color);\n",
              "    }\n",
              "    80% {\n",
              "      border-color: transparent;\n",
              "      border-right-color: var(--fill-color);\n",
              "      border-bottom-color: var(--fill-color);\n",
              "    }\n",
              "    90% {\n",
              "      border-color: transparent;\n",
              "      border-bottom-color: var(--fill-color);\n",
              "    }\n",
              "  }\n",
              "</style>\n",
              "\n",
              "  <script>\n",
              "    async function quickchart(key) {\n",
              "      const quickchartButtonEl =\n",
              "        document.querySelector('#' + key + ' button');\n",
              "      quickchartButtonEl.disabled = true;  // To prevent multiple clicks.\n",
              "      quickchartButtonEl.classList.add('colab-df-spinner');\n",
              "      try {\n",
              "        const charts = await google.colab.kernel.invokeFunction(\n",
              "            'suggestCharts', [key], {});\n",
              "      } catch (error) {\n",
              "        console.error('Error during call to suggestCharts:', error);\n",
              "      }\n",
              "      quickchartButtonEl.classList.remove('colab-df-spinner');\n",
              "      quickchartButtonEl.classList.add('colab-df-quickchart-complete');\n",
              "    }\n",
              "    (() => {\n",
              "      let quickchartButtonEl =\n",
              "        document.querySelector('#df-c1865ffc-1143-484d-aeb6-985d923fa6f3 button');\n",
              "      quickchartButtonEl.style.display =\n",
              "        google.colab.kernel.accessAllowed ? 'block' : 'none';\n",
              "    })();\n",
              "  </script>\n",
              "</div>\n",
              "    </div>\n",
              "  </div>\n"
            ]
          },
          "metadata": {},
          "execution_count": 54
        }
      ],
      "source": [
        "# movie id 471, method 2, top 10 similar\n",
        "out22,inner2=cos_similar(10,471)\n",
        "out22"
      ]
    },
    {
      "cell_type": "code",
      "execution_count": null,
      "metadata": {
        "id": "CV4w7ZuCrHd5",
        "colab": {
          "base_uri": "https://localhost:8080/",
          "height": 206
        },
        "outputId": "f56796df-3d1e-42c9-a357-dab068ffc3ef"
      },
      "outputs": [
        {
          "output_type": "execute_result",
          "data": {
            "text/plain": [
              "  movieId                     title                          genres\n",
              "1  103335    Despicable Me 2 (2013)  Animation|Children|Comedy|IMAX\n",
              "2  159093   Now You See Me 2 (2016)          Action|Comedy|Thriller\n",
              "3   31696        Constantine (2005)  Action|Fantasy|Horror|Thriller\n",
              "4     161       Crimson Tide (1995)              Drama|Thriller|War\n",
              "5   49278  Déjà Vu (Deja Vu) (2006)          Action|Sci-Fi|Thriller"
            ],
            "text/html": [
              "\n",
              "  <div id=\"df-e4919264-fb7e-4af7-b53e-975248b4fca4\" class=\"colab-df-container\">\n",
              "    <div>\n",
              "<style scoped>\n",
              "    .dataframe tbody tr th:only-of-type {\n",
              "        vertical-align: middle;\n",
              "    }\n",
              "\n",
              "    .dataframe tbody tr th {\n",
              "        vertical-align: top;\n",
              "    }\n",
              "\n",
              "    .dataframe thead th {\n",
              "        text-align: right;\n",
              "    }\n",
              "</style>\n",
              "<table border=\"1\" class=\"dataframe\">\n",
              "  <thead>\n",
              "    <tr style=\"text-align: right;\">\n",
              "      <th></th>\n",
              "      <th>movieId</th>\n",
              "      <th>title</th>\n",
              "      <th>genres</th>\n",
              "    </tr>\n",
              "  </thead>\n",
              "  <tbody>\n",
              "    <tr>\n",
              "      <th>1</th>\n",
              "      <td>103335</td>\n",
              "      <td>Despicable Me 2 (2013)</td>\n",
              "      <td>Animation|Children|Comedy|IMAX</td>\n",
              "    </tr>\n",
              "    <tr>\n",
              "      <th>2</th>\n",
              "      <td>159093</td>\n",
              "      <td>Now You See Me 2 (2016)</td>\n",
              "      <td>Action|Comedy|Thriller</td>\n",
              "    </tr>\n",
              "    <tr>\n",
              "      <th>3</th>\n",
              "      <td>31696</td>\n",
              "      <td>Constantine (2005)</td>\n",
              "      <td>Action|Fantasy|Horror|Thriller</td>\n",
              "    </tr>\n",
              "    <tr>\n",
              "      <th>4</th>\n",
              "      <td>161</td>\n",
              "      <td>Crimson Tide (1995)</td>\n",
              "      <td>Drama|Thriller|War</td>\n",
              "    </tr>\n",
              "    <tr>\n",
              "      <th>5</th>\n",
              "      <td>49278</td>\n",
              "      <td>Déjà Vu (Deja Vu) (2006)</td>\n",
              "      <td>Action|Sci-Fi|Thriller</td>\n",
              "    </tr>\n",
              "  </tbody>\n",
              "</table>\n",
              "</div>\n",
              "    <div class=\"colab-df-buttons\">\n",
              "\n",
              "  <div class=\"colab-df-container\">\n",
              "    <button class=\"colab-df-convert\" onclick=\"convertToInteractive('df-e4919264-fb7e-4af7-b53e-975248b4fca4')\"\n",
              "            title=\"Convert this dataframe to an interactive table.\"\n",
              "            style=\"display:none;\">\n",
              "\n",
              "  <svg xmlns=\"http://www.w3.org/2000/svg\" height=\"24px\" viewBox=\"0 -960 960 960\">\n",
              "    <path d=\"M120-120v-720h720v720H120Zm60-500h600v-160H180v160Zm220 220h160v-160H400v160Zm0 220h160v-160H400v160ZM180-400h160v-160H180v160Zm440 0h160v-160H620v160ZM180-180h160v-160H180v160Zm440 0h160v-160H620v160Z\"/>\n",
              "  </svg>\n",
              "    </button>\n",
              "\n",
              "  <style>\n",
              "    .colab-df-container {\n",
              "      display:flex;\n",
              "      gap: 12px;\n",
              "    }\n",
              "\n",
              "    .colab-df-convert {\n",
              "      background-color: #E8F0FE;\n",
              "      border: none;\n",
              "      border-radius: 50%;\n",
              "      cursor: pointer;\n",
              "      display: none;\n",
              "      fill: #1967D2;\n",
              "      height: 32px;\n",
              "      padding: 0 0 0 0;\n",
              "      width: 32px;\n",
              "    }\n",
              "\n",
              "    .colab-df-convert:hover {\n",
              "      background-color: #E2EBFA;\n",
              "      box-shadow: 0px 1px 2px rgba(60, 64, 67, 0.3), 0px 1px 3px 1px rgba(60, 64, 67, 0.15);\n",
              "      fill: #174EA6;\n",
              "    }\n",
              "\n",
              "    .colab-df-buttons div {\n",
              "      margin-bottom: 4px;\n",
              "    }\n",
              "\n",
              "    [theme=dark] .colab-df-convert {\n",
              "      background-color: #3B4455;\n",
              "      fill: #D2E3FC;\n",
              "    }\n",
              "\n",
              "    [theme=dark] .colab-df-convert:hover {\n",
              "      background-color: #434B5C;\n",
              "      box-shadow: 0px 1px 3px 1px rgba(0, 0, 0, 0.15);\n",
              "      filter: drop-shadow(0px 1px 2px rgba(0, 0, 0, 0.3));\n",
              "      fill: #FFFFFF;\n",
              "    }\n",
              "  </style>\n",
              "\n",
              "    <script>\n",
              "      const buttonEl =\n",
              "        document.querySelector('#df-e4919264-fb7e-4af7-b53e-975248b4fca4 button.colab-df-convert');\n",
              "      buttonEl.style.display =\n",
              "        google.colab.kernel.accessAllowed ? 'block' : 'none';\n",
              "\n",
              "      async function convertToInteractive(key) {\n",
              "        const element = document.querySelector('#df-e4919264-fb7e-4af7-b53e-975248b4fca4');\n",
              "        const dataTable =\n",
              "          await google.colab.kernel.invokeFunction('convertToInteractive',\n",
              "                                                    [key], {});\n",
              "        if (!dataTable) return;\n",
              "\n",
              "        const docLinkHtml = 'Like what you see? Visit the ' +\n",
              "          '<a target=\"_blank\" href=https://colab.research.google.com/notebooks/data_table.ipynb>data table notebook</a>'\n",
              "          + ' to learn more about interactive tables.';\n",
              "        element.innerHTML = '';\n",
              "        dataTable['output_type'] = 'display_data';\n",
              "        await google.colab.output.renderOutput(dataTable, element);\n",
              "        const docLink = document.createElement('div');\n",
              "        docLink.innerHTML = docLinkHtml;\n",
              "        element.appendChild(docLink);\n",
              "      }\n",
              "    </script>\n",
              "  </div>\n",
              "\n",
              "\n",
              "<div id=\"df-667d419b-bb91-4f95-8189-21d8c66a1ddb\">\n",
              "  <button class=\"colab-df-quickchart\" onclick=\"quickchart('df-667d419b-bb91-4f95-8189-21d8c66a1ddb')\"\n",
              "            title=\"Suggest charts.\"\n",
              "            style=\"display:none;\">\n",
              "\n",
              "<svg xmlns=\"http://www.w3.org/2000/svg\" height=\"24px\"viewBox=\"0 0 24 24\"\n",
              "     width=\"24px\">\n",
              "    <g>\n",
              "        <path d=\"M19 3H5c-1.1 0-2 .9-2 2v14c0 1.1.9 2 2 2h14c1.1 0 2-.9 2-2V5c0-1.1-.9-2-2-2zM9 17H7v-7h2v7zm4 0h-2V7h2v10zm4 0h-2v-4h2v4z\"/>\n",
              "    </g>\n",
              "</svg>\n",
              "  </button>\n",
              "\n",
              "<style>\n",
              "  .colab-df-quickchart {\n",
              "      --bg-color: #E8F0FE;\n",
              "      --fill-color: #1967D2;\n",
              "      --hover-bg-color: #E2EBFA;\n",
              "      --hover-fill-color: #174EA6;\n",
              "      --disabled-fill-color: #AAA;\n",
              "      --disabled-bg-color: #DDD;\n",
              "  }\n",
              "\n",
              "  [theme=dark] .colab-df-quickchart {\n",
              "      --bg-color: #3B4455;\n",
              "      --fill-color: #D2E3FC;\n",
              "      --hover-bg-color: #434B5C;\n",
              "      --hover-fill-color: #FFFFFF;\n",
              "      --disabled-bg-color: #3B4455;\n",
              "      --disabled-fill-color: #666;\n",
              "  }\n",
              "\n",
              "  .colab-df-quickchart {\n",
              "    background-color: var(--bg-color);\n",
              "    border: none;\n",
              "    border-radius: 50%;\n",
              "    cursor: pointer;\n",
              "    display: none;\n",
              "    fill: var(--fill-color);\n",
              "    height: 32px;\n",
              "    padding: 0;\n",
              "    width: 32px;\n",
              "  }\n",
              "\n",
              "  .colab-df-quickchart:hover {\n",
              "    background-color: var(--hover-bg-color);\n",
              "    box-shadow: 0 1px 2px rgba(60, 64, 67, 0.3), 0 1px 3px 1px rgba(60, 64, 67, 0.15);\n",
              "    fill: var(--button-hover-fill-color);\n",
              "  }\n",
              "\n",
              "  .colab-df-quickchart-complete:disabled,\n",
              "  .colab-df-quickchart-complete:disabled:hover {\n",
              "    background-color: var(--disabled-bg-color);\n",
              "    fill: var(--disabled-fill-color);\n",
              "    box-shadow: none;\n",
              "  }\n",
              "\n",
              "  .colab-df-spinner {\n",
              "    border: 2px solid var(--fill-color);\n",
              "    border-color: transparent;\n",
              "    border-bottom-color: var(--fill-color);\n",
              "    animation:\n",
              "      spin 1s steps(1) infinite;\n",
              "  }\n",
              "\n",
              "  @keyframes spin {\n",
              "    0% {\n",
              "      border-color: transparent;\n",
              "      border-bottom-color: var(--fill-color);\n",
              "      border-left-color: var(--fill-color);\n",
              "    }\n",
              "    20% {\n",
              "      border-color: transparent;\n",
              "      border-left-color: var(--fill-color);\n",
              "      border-top-color: var(--fill-color);\n",
              "    }\n",
              "    30% {\n",
              "      border-color: transparent;\n",
              "      border-left-color: var(--fill-color);\n",
              "      border-top-color: var(--fill-color);\n",
              "      border-right-color: var(--fill-color);\n",
              "    }\n",
              "    40% {\n",
              "      border-color: transparent;\n",
              "      border-right-color: var(--fill-color);\n",
              "      border-top-color: var(--fill-color);\n",
              "    }\n",
              "    60% {\n",
              "      border-color: transparent;\n",
              "      border-right-color: var(--fill-color);\n",
              "    }\n",
              "    80% {\n",
              "      border-color: transparent;\n",
              "      border-right-color: var(--fill-color);\n",
              "      border-bottom-color: var(--fill-color);\n",
              "    }\n",
              "    90% {\n",
              "      border-color: transparent;\n",
              "      border-bottom-color: var(--fill-color);\n",
              "    }\n",
              "  }\n",
              "</style>\n",
              "\n",
              "  <script>\n",
              "    async function quickchart(key) {\n",
              "      const quickchartButtonEl =\n",
              "        document.querySelector('#' + key + ' button');\n",
              "      quickchartButtonEl.disabled = true;  // To prevent multiple clicks.\n",
              "      quickchartButtonEl.classList.add('colab-df-spinner');\n",
              "      try {\n",
              "        const charts = await google.colab.kernel.invokeFunction(\n",
              "            'suggestCharts', [key], {});\n",
              "      } catch (error) {\n",
              "        console.error('Error during call to suggestCharts:', error);\n",
              "      }\n",
              "      quickchartButtonEl.classList.remove('colab-df-spinner');\n",
              "      quickchartButtonEl.classList.add('colab-df-quickchart-complete');\n",
              "    }\n",
              "    (() => {\n",
              "      let quickchartButtonEl =\n",
              "        document.querySelector('#df-667d419b-bb91-4f95-8189-21d8c66a1ddb button');\n",
              "      quickchartButtonEl.style.display =\n",
              "        google.colab.kernel.accessAllowed ? 'block' : 'none';\n",
              "    })();\n",
              "  </script>\n",
              "</div>\n",
              "    </div>\n",
              "  </div>\n"
            ]
          },
          "metadata": {},
          "execution_count": 55
        }
      ],
      "source": [
        "# movie id 10, method 1, top 5 similar\n",
        "out31,ssd3=dist_similar(5,10)\n",
        "out31"
      ]
    },
    {
      "cell_type": "code",
      "execution_count": null,
      "metadata": {
        "id": "GIC4i2hBrHbA",
        "colab": {
          "base_uri": "https://localhost:8080/",
          "height": 206
        },
        "outputId": "f383075d-abf0-4cda-9ceb-9065f816f0e1"
      },
      "outputs": [
        {
          "output_type": "execute_result",
          "data": {
            "text/plain": [
              "  movieId                                    title  \\\n",
              "1    1253    Day the Earth Stood Still, The (1951)   \n",
              "2   46322  Jet Li's Fearless (Huo Yuan Jia) (2006)   \n",
              "3    3048                 Under the Rainbow (1981)   \n",
              "4    3438      Teenage Mutant Ninja Turtles (1990)   \n",
              "5    2094                    Rocketeer, The (1991)   \n",
              "\n",
              "                                  genres  \n",
              "1                  Drama|Sci-Fi|Thriller  \n",
              "2                           Action|Drama  \n",
              "3                                 Comedy  \n",
              "4  Action|Children|Comedy|Fantasy|Sci-Fi  \n",
              "5                Action|Adventure|Sci-Fi  "
            ],
            "text/html": [
              "\n",
              "  <div id=\"df-87c2edd9-71a0-4e00-8ecf-e8503eba85a2\" class=\"colab-df-container\">\n",
              "    <div>\n",
              "<style scoped>\n",
              "    .dataframe tbody tr th:only-of-type {\n",
              "        vertical-align: middle;\n",
              "    }\n",
              "\n",
              "    .dataframe tbody tr th {\n",
              "        vertical-align: top;\n",
              "    }\n",
              "\n",
              "    .dataframe thead th {\n",
              "        text-align: right;\n",
              "    }\n",
              "</style>\n",
              "<table border=\"1\" class=\"dataframe\">\n",
              "  <thead>\n",
              "    <tr style=\"text-align: right;\">\n",
              "      <th></th>\n",
              "      <th>movieId</th>\n",
              "      <th>title</th>\n",
              "      <th>genres</th>\n",
              "    </tr>\n",
              "  </thead>\n",
              "  <tbody>\n",
              "    <tr>\n",
              "      <th>1</th>\n",
              "      <td>1253</td>\n",
              "      <td>Day the Earth Stood Still, The (1951)</td>\n",
              "      <td>Drama|Sci-Fi|Thriller</td>\n",
              "    </tr>\n",
              "    <tr>\n",
              "      <th>2</th>\n",
              "      <td>46322</td>\n",
              "      <td>Jet Li's Fearless (Huo Yuan Jia) (2006)</td>\n",
              "      <td>Action|Drama</td>\n",
              "    </tr>\n",
              "    <tr>\n",
              "      <th>3</th>\n",
              "      <td>3048</td>\n",
              "      <td>Under the Rainbow (1981)</td>\n",
              "      <td>Comedy</td>\n",
              "    </tr>\n",
              "    <tr>\n",
              "      <th>4</th>\n",
              "      <td>3438</td>\n",
              "      <td>Teenage Mutant Ninja Turtles (1990)</td>\n",
              "      <td>Action|Children|Comedy|Fantasy|Sci-Fi</td>\n",
              "    </tr>\n",
              "    <tr>\n",
              "      <th>5</th>\n",
              "      <td>2094</td>\n",
              "      <td>Rocketeer, The (1991)</td>\n",
              "      <td>Action|Adventure|Sci-Fi</td>\n",
              "    </tr>\n",
              "  </tbody>\n",
              "</table>\n",
              "</div>\n",
              "    <div class=\"colab-df-buttons\">\n",
              "\n",
              "  <div class=\"colab-df-container\">\n",
              "    <button class=\"colab-df-convert\" onclick=\"convertToInteractive('df-87c2edd9-71a0-4e00-8ecf-e8503eba85a2')\"\n",
              "            title=\"Convert this dataframe to an interactive table.\"\n",
              "            style=\"display:none;\">\n",
              "\n",
              "  <svg xmlns=\"http://www.w3.org/2000/svg\" height=\"24px\" viewBox=\"0 -960 960 960\">\n",
              "    <path d=\"M120-120v-720h720v720H120Zm60-500h600v-160H180v160Zm220 220h160v-160H400v160Zm0 220h160v-160H400v160ZM180-400h160v-160H180v160Zm440 0h160v-160H620v160ZM180-180h160v-160H180v160Zm440 0h160v-160H620v160Z\"/>\n",
              "  </svg>\n",
              "    </button>\n",
              "\n",
              "  <style>\n",
              "    .colab-df-container {\n",
              "      display:flex;\n",
              "      gap: 12px;\n",
              "    }\n",
              "\n",
              "    .colab-df-convert {\n",
              "      background-color: #E8F0FE;\n",
              "      border: none;\n",
              "      border-radius: 50%;\n",
              "      cursor: pointer;\n",
              "      display: none;\n",
              "      fill: #1967D2;\n",
              "      height: 32px;\n",
              "      padding: 0 0 0 0;\n",
              "      width: 32px;\n",
              "    }\n",
              "\n",
              "    .colab-df-convert:hover {\n",
              "      background-color: #E2EBFA;\n",
              "      box-shadow: 0px 1px 2px rgba(60, 64, 67, 0.3), 0px 1px 3px 1px rgba(60, 64, 67, 0.15);\n",
              "      fill: #174EA6;\n",
              "    }\n",
              "\n",
              "    .colab-df-buttons div {\n",
              "      margin-bottom: 4px;\n",
              "    }\n",
              "\n",
              "    [theme=dark] .colab-df-convert {\n",
              "      background-color: #3B4455;\n",
              "      fill: #D2E3FC;\n",
              "    }\n",
              "\n",
              "    [theme=dark] .colab-df-convert:hover {\n",
              "      background-color: #434B5C;\n",
              "      box-shadow: 0px 1px 3px 1px rgba(0, 0, 0, 0.15);\n",
              "      filter: drop-shadow(0px 1px 2px rgba(0, 0, 0, 0.3));\n",
              "      fill: #FFFFFF;\n",
              "    }\n",
              "  </style>\n",
              "\n",
              "    <script>\n",
              "      const buttonEl =\n",
              "        document.querySelector('#df-87c2edd9-71a0-4e00-8ecf-e8503eba85a2 button.colab-df-convert');\n",
              "      buttonEl.style.display =\n",
              "        google.colab.kernel.accessAllowed ? 'block' : 'none';\n",
              "\n",
              "      async function convertToInteractive(key) {\n",
              "        const element = document.querySelector('#df-87c2edd9-71a0-4e00-8ecf-e8503eba85a2');\n",
              "        const dataTable =\n",
              "          await google.colab.kernel.invokeFunction('convertToInteractive',\n",
              "                                                    [key], {});\n",
              "        if (!dataTable) return;\n",
              "\n",
              "        const docLinkHtml = 'Like what you see? Visit the ' +\n",
              "          '<a target=\"_blank\" href=https://colab.research.google.com/notebooks/data_table.ipynb>data table notebook</a>'\n",
              "          + ' to learn more about interactive tables.';\n",
              "        element.innerHTML = '';\n",
              "        dataTable['output_type'] = 'display_data';\n",
              "        await google.colab.output.renderOutput(dataTable, element);\n",
              "        const docLink = document.createElement('div');\n",
              "        docLink.innerHTML = docLinkHtml;\n",
              "        element.appendChild(docLink);\n",
              "      }\n",
              "    </script>\n",
              "  </div>\n",
              "\n",
              "\n",
              "<div id=\"df-714f5acf-2ea5-4771-90c4-339c821e9af7\">\n",
              "  <button class=\"colab-df-quickchart\" onclick=\"quickchart('df-714f5acf-2ea5-4771-90c4-339c821e9af7')\"\n",
              "            title=\"Suggest charts.\"\n",
              "            style=\"display:none;\">\n",
              "\n",
              "<svg xmlns=\"http://www.w3.org/2000/svg\" height=\"24px\"viewBox=\"0 0 24 24\"\n",
              "     width=\"24px\">\n",
              "    <g>\n",
              "        <path d=\"M19 3H5c-1.1 0-2 .9-2 2v14c0 1.1.9 2 2 2h14c1.1 0 2-.9 2-2V5c0-1.1-.9-2-2-2zM9 17H7v-7h2v7zm4 0h-2V7h2v10zm4 0h-2v-4h2v4z\"/>\n",
              "    </g>\n",
              "</svg>\n",
              "  </button>\n",
              "\n",
              "<style>\n",
              "  .colab-df-quickchart {\n",
              "      --bg-color: #E8F0FE;\n",
              "      --fill-color: #1967D2;\n",
              "      --hover-bg-color: #E2EBFA;\n",
              "      --hover-fill-color: #174EA6;\n",
              "      --disabled-fill-color: #AAA;\n",
              "      --disabled-bg-color: #DDD;\n",
              "  }\n",
              "\n",
              "  [theme=dark] .colab-df-quickchart {\n",
              "      --bg-color: #3B4455;\n",
              "      --fill-color: #D2E3FC;\n",
              "      --hover-bg-color: #434B5C;\n",
              "      --hover-fill-color: #FFFFFF;\n",
              "      --disabled-bg-color: #3B4455;\n",
              "      --disabled-fill-color: #666;\n",
              "  }\n",
              "\n",
              "  .colab-df-quickchart {\n",
              "    background-color: var(--bg-color);\n",
              "    border: none;\n",
              "    border-radius: 50%;\n",
              "    cursor: pointer;\n",
              "    display: none;\n",
              "    fill: var(--fill-color);\n",
              "    height: 32px;\n",
              "    padding: 0;\n",
              "    width: 32px;\n",
              "  }\n",
              "\n",
              "  .colab-df-quickchart:hover {\n",
              "    background-color: var(--hover-bg-color);\n",
              "    box-shadow: 0 1px 2px rgba(60, 64, 67, 0.3), 0 1px 3px 1px rgba(60, 64, 67, 0.15);\n",
              "    fill: var(--button-hover-fill-color);\n",
              "  }\n",
              "\n",
              "  .colab-df-quickchart-complete:disabled,\n",
              "  .colab-df-quickchart-complete:disabled:hover {\n",
              "    background-color: var(--disabled-bg-color);\n",
              "    fill: var(--disabled-fill-color);\n",
              "    box-shadow: none;\n",
              "  }\n",
              "\n",
              "  .colab-df-spinner {\n",
              "    border: 2px solid var(--fill-color);\n",
              "    border-color: transparent;\n",
              "    border-bottom-color: var(--fill-color);\n",
              "    animation:\n",
              "      spin 1s steps(1) infinite;\n",
              "  }\n",
              "\n",
              "  @keyframes spin {\n",
              "    0% {\n",
              "      border-color: transparent;\n",
              "      border-bottom-color: var(--fill-color);\n",
              "      border-left-color: var(--fill-color);\n",
              "    }\n",
              "    20% {\n",
              "      border-color: transparent;\n",
              "      border-left-color: var(--fill-color);\n",
              "      border-top-color: var(--fill-color);\n",
              "    }\n",
              "    30% {\n",
              "      border-color: transparent;\n",
              "      border-left-color: var(--fill-color);\n",
              "      border-top-color: var(--fill-color);\n",
              "      border-right-color: var(--fill-color);\n",
              "    }\n",
              "    40% {\n",
              "      border-color: transparent;\n",
              "      border-right-color: var(--fill-color);\n",
              "      border-top-color: var(--fill-color);\n",
              "    }\n",
              "    60% {\n",
              "      border-color: transparent;\n",
              "      border-right-color: var(--fill-color);\n",
              "    }\n",
              "    80% {\n",
              "      border-color: transparent;\n",
              "      border-right-color: var(--fill-color);\n",
              "      border-bottom-color: var(--fill-color);\n",
              "    }\n",
              "    90% {\n",
              "      border-color: transparent;\n",
              "      border-bottom-color: var(--fill-color);\n",
              "    }\n",
              "  }\n",
              "</style>\n",
              "\n",
              "  <script>\n",
              "    async function quickchart(key) {\n",
              "      const quickchartButtonEl =\n",
              "        document.querySelector('#' + key + ' button');\n",
              "      quickchartButtonEl.disabled = true;  // To prevent multiple clicks.\n",
              "      quickchartButtonEl.classList.add('colab-df-spinner');\n",
              "      try {\n",
              "        const charts = await google.colab.kernel.invokeFunction(\n",
              "            'suggestCharts', [key], {});\n",
              "      } catch (error) {\n",
              "        console.error('Error during call to suggestCharts:', error);\n",
              "      }\n",
              "      quickchartButtonEl.classList.remove('colab-df-spinner');\n",
              "      quickchartButtonEl.classList.add('colab-df-quickchart-complete');\n",
              "    }\n",
              "    (() => {\n",
              "      let quickchartButtonEl =\n",
              "        document.querySelector('#df-714f5acf-2ea5-4771-90c4-339c821e9af7 button');\n",
              "      quickchartButtonEl.style.display =\n",
              "        google.colab.kernel.accessAllowed ? 'block' : 'none';\n",
              "    })();\n",
              "  </script>\n",
              "</div>\n",
              "    </div>\n",
              "  </div>\n"
            ]
          },
          "metadata": {},
          "execution_count": 56
        }
      ],
      "source": [
        "# movie id 10, method 2, top 5 similar\n",
        "out42,inner3=cos_similar(5,10)\n",
        "out42"
      ]
    }
  ],
  "metadata": {
    "colab": {
      "provenance": []
    },
    "kernelspec": {
      "display_name": "Python 3",
      "name": "python3"
    },
    "language_info": {
      "name": "python"
    }
  },
  "nbformat": 4,
  "nbformat_minor": 0
}